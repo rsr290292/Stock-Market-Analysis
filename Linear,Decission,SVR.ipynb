{
  "nbformat": 4,
  "nbformat_minor": 0,
  "metadata": {
    "colab": {
      "name": "Linear,Decission,SVR.ipynb",
      "provenance": []
    },
    "kernelspec": {
      "name": "python3",
      "display_name": "Python 3"
    }
  },
  "cells": [
    {
      "cell_type": "code",
      "metadata": {
        "id": "-QwY8-bbv5I4",
        "colab_type": "code",
        "outputId": "64180046-1953-4438-8e2f-00f7bf259a86",
        "colab": {
          "base_uri": "https://localhost:8080/",
          "height": 71
        }
      },
      "source": [
        "#libs for data manipulation\n",
        "import os\n",
        "import pandas as pd\n",
        "import numpy as np\n",
        "\n",
        "#libs for data visulization & analysis\n",
        "import matplotlib.pyplot as plt\n",
        "import seaborn as sns\n",
        "%matplotlib inline\n",
        "\n",
        "#machine learning methods\n",
        "from sklearn import svm\n",
        "from sklearn.model_selection import train_test_split\n",
        "from sklearn import metrics\n",
        "from sklearn.linear_model import LinearRegression\n",
        "from sklearn.ensemble import RandomForestClassifier\n",
        "from sklearn.tree import DecisionTreeClassifier\n",
        "from sklearn.tree import DecisionTreeRegressor\n",
        "import statsmodels.api as sm\n",
        "from sklearn.metrics import mean_absolute_error, mean_squared_error, r2_score"
      ],
      "execution_count": 1,
      "outputs": [
        {
          "output_type": "stream",
          "text": [
            "/usr/local/lib/python3.6/dist-packages/statsmodels/tools/_testing.py:19: FutureWarning: pandas.util.testing is deprecated. Use the functions in the public API at pandas.testing instead.\n",
            "  import pandas.util.testing as tm\n"
          ],
          "name": "stderr"
        }
      ]
    },
    {
      "cell_type": "code",
      "metadata": {
        "id": "kkmeO25vv-vy",
        "colab_type": "code",
        "colab": {}
      },
      "source": [
        "df = pd.read_csv('/content/drive/My Drive/NSE 2018 data.csv')"
      ],
      "execution_count": 0,
      "outputs": []
    },
    {
      "cell_type": "code",
      "metadata": {
        "id": "8DZRL0W8wEcQ",
        "colab_type": "code",
        "colab": {}
      },
      "source": [
        "IOB = df[df.SYMBOL.isin(['IOB'])]"
      ],
      "execution_count": 0,
      "outputs": []
    },
    {
      "cell_type": "code",
      "metadata": {
        "id": "-BRb4mcgwEie",
        "colab_type": "code",
        "outputId": "ba92376f-b6d3-4453-931c-543d6054e22c",
        "colab": {
          "base_uri": "https://localhost:8080/",
          "height": 476
        }
      },
      "source": [
        "print(IOB.head())\n",
        "print(IOB.shape)\n",
        "print(IOB.info())"
      ],
      "execution_count": 4,
      "outputs": [
        {
          "output_type": "stream",
          "text": [
            "       SYMBOL       sector   OPEN  ...     TOTTRDVAL      TIMESTAMP  TOTALTRADES\n",
            "134744    IOB  Banks - PSU  22.20  ...  2.178484e+07  1/1/2018 0:00         2046\n",
            "134745    IOB  Banks - PSU  22.35  ...  1.608124e+07  1/2/2018 0:00         1954\n",
            "134746    IOB  Banks - PSU  22.40  ...  2.253496e+07  1/3/2018 0:00         1322\n",
            "134747    IOB  Banks - PSU  22.70  ...  6.572533e+07  1/4/2018 0:00         4526\n",
            "134748    IOB  Banks - PSU  24.50  ...  1.436609e+08  1/5/2018 0:00         9965\n",
            "\n",
            "[5 rows x 10 columns]\n",
            "(215, 10)\n",
            "<class 'pandas.core.frame.DataFrame'>\n",
            "Int64Index: 215 entries, 134744 to 134958\n",
            "Data columns (total 10 columns):\n",
            " #   Column       Non-Null Count  Dtype  \n",
            "---  ------       --------------  -----  \n",
            " 0   SYMBOL       215 non-null    object \n",
            " 1   sector       215 non-null    object \n",
            " 2   OPEN         215 non-null    float64\n",
            " 3   HIGH         215 non-null    float64\n",
            " 4   LOW          215 non-null    float64\n",
            " 5   CLOSE        215 non-null    float64\n",
            " 6   TOTTRDQTY    215 non-null    int64  \n",
            " 7   TOTTRDVAL    215 non-null    float64\n",
            " 8   TIMESTAMP    215 non-null    object \n",
            " 9   TOTALTRADES  215 non-null    int64  \n",
            "dtypes: float64(5), int64(2), object(3)\n",
            "memory usage: 18.5+ KB\n",
            "None\n"
          ],
          "name": "stdout"
        }
      ]
    },
    {
      "cell_type": "markdown",
      "metadata": {
        "id": "FfiHUKweytyi",
        "colab_type": "text"
      },
      "source": [
        "Multiple Linear Regression using statsmodels"
      ]
    },
    {
      "cell_type": "code",
      "metadata": {
        "id": "rEbWuxgmwEmA",
        "colab_type": "code",
        "colab": {}
      },
      "source": [
        "x = IOB[['OPEN','HIGH','LOW','TOTTRDQTY','TOTTRDVAL','TOTALTRADES']]\n",
        "y = IOB['CLOSE'].values"
      ],
      "execution_count": 0,
      "outputs": []
    },
    {
      "cell_type": "code",
      "metadata": {
        "id": "8GT4D8U0xDS6",
        "colab_type": "code",
        "outputId": "d47219fb-0c32-4a7d-a121-9350291c1ccd",
        "colab": {
          "base_uri": "https://localhost:8080/",
          "height": 85
        }
      },
      "source": [
        "X_train, X_test, Y_train, Y_test = train_test_split(x,y, test_size = 0.2, random_state=5)\n",
        "print(X_train.shape)\n",
        "print(X_test.shape)\n",
        "print(Y_train.shape)\n",
        "print(Y_test.shape)"
      ],
      "execution_count": 6,
      "outputs": [
        {
          "output_type": "stream",
          "text": [
            "(172, 6)\n",
            "(43, 6)\n",
            "(172,)\n",
            "(43,)\n"
          ],
          "name": "stdout"
        }
      ]
    },
    {
      "cell_type": "code",
      "metadata": {
        "id": "wdszY-qWxGQN",
        "colab_type": "code",
        "colab": {}
      },
      "source": [
        "X_train = sm.add_constant(X_train)\n",
        "X_test = sm.add_constant(X_test)"
      ],
      "execution_count": 0,
      "outputs": []
    },
    {
      "cell_type": "code",
      "metadata": {
        "id": "q7PPAHOoxGYN",
        "colab_type": "code",
        "outputId": "94e192ef-ad03-48aa-ca81-f9d9e93bb2fb",
        "colab": {
          "base_uri": "https://localhost:8080/",
          "height": 583
        }
      },
      "source": [
        "lin_model = sm.OLS(Y_train, X_train)\n",
        "result = lin_model.fit()\n",
        "result.summary()"
      ],
      "execution_count": 8,
      "outputs": [
        {
          "output_type": "execute_result",
          "data": {
            "text/html": [
              "<table class=\"simpletable\">\n",
              "<caption>OLS Regression Results</caption>\n",
              "<tr>\n",
              "  <th>Dep. Variable:</th>            <td>y</td>        <th>  R-squared:         </th> <td>   0.997</td> \n",
              "</tr>\n",
              "<tr>\n",
              "  <th>Model:</th>                   <td>OLS</td>       <th>  Adj. R-squared:    </th> <td>   0.997</td> \n",
              "</tr>\n",
              "<tr>\n",
              "  <th>Method:</th>             <td>Least Squares</td>  <th>  F-statistic:       </th> <td>   9945.</td> \n",
              "</tr>\n",
              "<tr>\n",
              "  <th>Date:</th>             <td>Sat, 06 Jun 2020</td> <th>  Prob (F-statistic):</th> <td>2.45e-208</td>\n",
              "</tr>\n",
              "<tr>\n",
              "  <th>Time:</th>                 <td>10:45:03</td>     <th>  Log-Likelihood:    </th> <td>  80.501</td> \n",
              "</tr>\n",
              "<tr>\n",
              "  <th>No. Observations:</th>      <td>   172</td>      <th>  AIC:               </th> <td>  -147.0</td> \n",
              "</tr>\n",
              "<tr>\n",
              "  <th>Df Residuals:</th>          <td>   165</td>      <th>  BIC:               </th> <td>  -125.0</td> \n",
              "</tr>\n",
              "<tr>\n",
              "  <th>Df Model:</th>              <td>     6</td>      <th>                     </th>     <td> </td>    \n",
              "</tr>\n",
              "<tr>\n",
              "  <th>Covariance Type:</th>      <td>nonrobust</td>    <th>                     </th>     <td> </td>    \n",
              "</tr>\n",
              "</table>\n",
              "<table class=\"simpletable\">\n",
              "<tr>\n",
              "       <td></td>          <th>coef</th>     <th>std err</th>      <th>t</th>      <th>P>|t|</th>  <th>[0.025</th>    <th>0.975]</th>  \n",
              "</tr>\n",
              "<tr>\n",
              "  <th>const</th>       <td>   -0.0126</td> <td>    0.099</td> <td>   -0.128</td> <td> 0.898</td> <td>   -0.207</td> <td>    0.182</td>\n",
              "</tr>\n",
              "<tr>\n",
              "  <th>OPEN</th>        <td>   -0.1218</td> <td>    0.054</td> <td>   -2.268</td> <td> 0.025</td> <td>   -0.228</td> <td>   -0.016</td>\n",
              "</tr>\n",
              "<tr>\n",
              "  <th>HIGH</th>        <td>    0.5655</td> <td>    0.060</td> <td>    9.493</td> <td> 0.000</td> <td>    0.448</td> <td>    0.683</td>\n",
              "</tr>\n",
              "<tr>\n",
              "  <th>LOW</th>         <td>    0.5575</td> <td>    0.050</td> <td>   11.144</td> <td> 0.000</td> <td>    0.459</td> <td>    0.656</td>\n",
              "</tr>\n",
              "<tr>\n",
              "  <th>TOTTRDQTY</th>   <td> 8.159e-08</td> <td> 7.63e-08</td> <td>    1.069</td> <td> 0.287</td> <td>-6.91e-08</td> <td> 2.32e-07</td>\n",
              "</tr>\n",
              "<tr>\n",
              "  <th>TOTTRDVAL</th>   <td>  -4.6e-09</td> <td> 3.54e-09</td> <td>   -1.301</td> <td> 0.195</td> <td>-1.16e-08</td> <td> 2.38e-09</td>\n",
              "</tr>\n",
              "<tr>\n",
              "  <th>TOTALTRADES</th> <td>-4.365e-05</td> <td>  2.3e-05</td> <td>   -1.897</td> <td> 0.060</td> <td>-8.91e-05</td> <td> 1.79e-06</td>\n",
              "</tr>\n",
              "</table>\n",
              "<table class=\"simpletable\">\n",
              "<tr>\n",
              "  <th>Omnibus:</th>       <td>21.662</td> <th>  Durbin-Watson:     </th> <td>   2.128</td>\n",
              "</tr>\n",
              "<tr>\n",
              "  <th>Prob(Omnibus):</th> <td> 0.000</td> <th>  Jarque-Bera (JB):  </th> <td>  96.303</td>\n",
              "</tr>\n",
              "<tr>\n",
              "  <th>Skew:</th>          <td> 0.188</td> <th>  Prob(JB):          </th> <td>1.22e-21</td>\n",
              "</tr>\n",
              "<tr>\n",
              "  <th>Kurtosis:</th>      <td> 6.646</td> <th>  Cond. No.          </th> <td>1.85e+08</td>\n",
              "</tr>\n",
              "</table><br/><br/>Warnings:<br/>[1] Standard Errors assume that the covariance matrix of the errors is correctly specified.<br/>[2] The condition number is large, 1.85e+08. This might indicate that there are<br/>strong multicollinearity or other numerical problems."
            ],
            "text/plain": [
              "<class 'statsmodels.iolib.summary.Summary'>\n",
              "\"\"\"\n",
              "                            OLS Regression Results                            \n",
              "==============================================================================\n",
              "Dep. Variable:                      y   R-squared:                       0.997\n",
              "Model:                            OLS   Adj. R-squared:                  0.997\n",
              "Method:                 Least Squares   F-statistic:                     9945.\n",
              "Date:                Sat, 06 Jun 2020   Prob (F-statistic):          2.45e-208\n",
              "Time:                        10:45:03   Log-Likelihood:                 80.501\n",
              "No. Observations:                 172   AIC:                            -147.0\n",
              "Df Residuals:                     165   BIC:                            -125.0\n",
              "Df Model:                           6                                         \n",
              "Covariance Type:            nonrobust                                         \n",
              "===============================================================================\n",
              "                  coef    std err          t      P>|t|      [0.025      0.975]\n",
              "-------------------------------------------------------------------------------\n",
              "const          -0.0126      0.099     -0.128      0.898      -0.207       0.182\n",
              "OPEN           -0.1218      0.054     -2.268      0.025      -0.228      -0.016\n",
              "HIGH            0.5655      0.060      9.493      0.000       0.448       0.683\n",
              "LOW             0.5575      0.050     11.144      0.000       0.459       0.656\n",
              "TOTTRDQTY    8.159e-08   7.63e-08      1.069      0.287   -6.91e-08    2.32e-07\n",
              "TOTTRDVAL     -4.6e-09   3.54e-09     -1.301      0.195   -1.16e-08    2.38e-09\n",
              "TOTALTRADES -4.365e-05    2.3e-05     -1.897      0.060   -8.91e-05    1.79e-06\n",
              "==============================================================================\n",
              "Omnibus:                       21.662   Durbin-Watson:                   2.128\n",
              "Prob(Omnibus):                  0.000   Jarque-Bera (JB):               96.303\n",
              "Skew:                           0.188   Prob(JB):                     1.22e-21\n",
              "Kurtosis:                       6.646   Cond. No.                     1.85e+08\n",
              "==============================================================================\n",
              "\n",
              "Warnings:\n",
              "[1] Standard Errors assume that the covariance matrix of the errors is correctly specified.\n",
              "[2] The condition number is large, 1.85e+08. This might indicate that there are\n",
              "strong multicollinearity or other numerical problems.\n",
              "\"\"\""
            ]
          },
          "metadata": {
            "tags": []
          },
          "execution_count": 8
        }
      ]
    },
    {
      "cell_type": "code",
      "metadata": {
        "id": "JQiPBCsUxGb9",
        "colab_type": "code",
        "colab": {}
      },
      "source": [
        "x1 = IOB[['OPEN','HIGH','LOW','TOTTRDVAL']]"
      ],
      "execution_count": 0,
      "outputs": []
    },
    {
      "cell_type": "code",
      "metadata": {
        "id": "-ODGnDIzxGhA",
        "colab_type": "code",
        "colab": {}
      },
      "source": [
        "X_train1, X_test1, Y_train1, Y_test1 = train_test_split(x1,y, test_size = 0.2, random_state=5)\n",
        "X_train1 = sm.add_constant(X_train1)\n",
        "X_test1 = sm.add_constant(X_test1)"
      ],
      "execution_count": 0,
      "outputs": []
    },
    {
      "cell_type": "code",
      "metadata": {
        "id": "4GYu4Mycxqmc",
        "colab_type": "code",
        "outputId": "1f11682b-00d3-43d7-a825-fa5c0d1a4e69",
        "colab": {
          "base_uri": "https://localhost:8080/",
          "height": 541
        }
      },
      "source": [
        "lin_model1 = sm.OLS(Y_train1, X_train1)\n",
        "result = lin_model1.fit()\n",
        "result.summary()"
      ],
      "execution_count": 11,
      "outputs": [
        {
          "output_type": "execute_result",
          "data": {
            "text/html": [
              "<table class=\"simpletable\">\n",
              "<caption>OLS Regression Results</caption>\n",
              "<tr>\n",
              "  <th>Dep. Variable:</th>            <td>y</td>        <th>  R-squared:         </th> <td>   0.997</td> \n",
              "</tr>\n",
              "<tr>\n",
              "  <th>Model:</th>                   <td>OLS</td>       <th>  Adj. R-squared:    </th> <td>   0.997</td> \n",
              "</tr>\n",
              "<tr>\n",
              "  <th>Method:</th>             <td>Least Squares</td>  <th>  F-statistic:       </th> <td>1.477e+04</td>\n",
              "</tr>\n",
              "<tr>\n",
              "  <th>Date:</th>             <td>Sat, 06 Jun 2020</td> <th>  Prob (F-statistic):</th> <td>9.86e-212</td>\n",
              "</tr>\n",
              "<tr>\n",
              "  <th>Time:</th>                 <td>10:45:03</td>     <th>  Log-Likelihood:    </th> <td>  78.644</td> \n",
              "</tr>\n",
              "<tr>\n",
              "  <th>No. Observations:</th>      <td>   172</td>      <th>  AIC:               </th> <td>  -147.3</td> \n",
              "</tr>\n",
              "<tr>\n",
              "  <th>Df Residuals:</th>          <td>   167</td>      <th>  BIC:               </th> <td>  -131.6</td> \n",
              "</tr>\n",
              "<tr>\n",
              "  <th>Df Model:</th>              <td>     4</td>      <th>                     </th>     <td> </td>    \n",
              "</tr>\n",
              "<tr>\n",
              "  <th>Covariance Type:</th>      <td>nonrobust</td>    <th>                     </th>     <td> </td>    \n",
              "</tr>\n",
              "</table>\n",
              "<table class=\"simpletable\">\n",
              "<tr>\n",
              "      <td></td>         <th>coef</th>     <th>std err</th>      <th>t</th>      <th>P>|t|</th>  <th>[0.025</th>    <th>0.975]</th>  \n",
              "</tr>\n",
              "<tr>\n",
              "  <th>const</th>     <td>   -0.0197</td> <td>    0.080</td> <td>   -0.245</td> <td> 0.807</td> <td>   -0.178</td> <td>    0.139</td>\n",
              "</tr>\n",
              "<tr>\n",
              "  <th>OPEN</th>      <td>   -0.1285</td> <td>    0.054</td> <td>   -2.386</td> <td> 0.018</td> <td>   -0.235</td> <td>   -0.022</td>\n",
              "</tr>\n",
              "<tr>\n",
              "  <th>HIGH</th>      <td>    0.5503</td> <td>    0.059</td> <td>    9.354</td> <td> 0.000</td> <td>    0.434</td> <td>    0.666</td>\n",
              "</tr>\n",
              "<tr>\n",
              "  <th>LOW</th>       <td>    0.5786</td> <td>    0.048</td> <td>   12.080</td> <td> 0.000</td> <td>    0.484</td> <td>    0.673</td>\n",
              "</tr>\n",
              "<tr>\n",
              "  <th>TOTTRDVAL</th> <td> -3.74e-09</td> <td> 1.05e-09</td> <td>   -3.576</td> <td> 0.000</td> <td>-5.81e-09</td> <td>-1.68e-09</td>\n",
              "</tr>\n",
              "</table>\n",
              "<table class=\"simpletable\">\n",
              "<tr>\n",
              "  <th>Omnibus:</th>       <td>24.215</td> <th>  Durbin-Watson:     </th> <td>   2.089</td>\n",
              "</tr>\n",
              "<tr>\n",
              "  <th>Prob(Omnibus):</th> <td> 0.000</td> <th>  Jarque-Bera (JB):  </th> <td> 110.752</td>\n",
              "</tr>\n",
              "<tr>\n",
              "  <th>Skew:</th>          <td> 0.286</td> <th>  Prob(JB):          </th> <td>8.92e-25</td>\n",
              "</tr>\n",
              "<tr>\n",
              "  <th>Kurtosis:</th>      <td> 6.889</td> <th>  Cond. No.          </th> <td>1.66e+08</td>\n",
              "</tr>\n",
              "</table><br/><br/>Warnings:<br/>[1] Standard Errors assume that the covariance matrix of the errors is correctly specified.<br/>[2] The condition number is large, 1.66e+08. This might indicate that there are<br/>strong multicollinearity or other numerical problems."
            ],
            "text/plain": [
              "<class 'statsmodels.iolib.summary.Summary'>\n",
              "\"\"\"\n",
              "                            OLS Regression Results                            \n",
              "==============================================================================\n",
              "Dep. Variable:                      y   R-squared:                       0.997\n",
              "Model:                            OLS   Adj. R-squared:                  0.997\n",
              "Method:                 Least Squares   F-statistic:                 1.477e+04\n",
              "Date:                Sat, 06 Jun 2020   Prob (F-statistic):          9.86e-212\n",
              "Time:                        10:45:03   Log-Likelihood:                 78.644\n",
              "No. Observations:                 172   AIC:                            -147.3\n",
              "Df Residuals:                     167   BIC:                            -131.6\n",
              "Df Model:                           4                                         \n",
              "Covariance Type:            nonrobust                                         \n",
              "==============================================================================\n",
              "                 coef    std err          t      P>|t|      [0.025      0.975]\n",
              "------------------------------------------------------------------------------\n",
              "const         -0.0197      0.080     -0.245      0.807      -0.178       0.139\n",
              "OPEN          -0.1285      0.054     -2.386      0.018      -0.235      -0.022\n",
              "HIGH           0.5503      0.059      9.354      0.000       0.434       0.666\n",
              "LOW            0.5786      0.048     12.080      0.000       0.484       0.673\n",
              "TOTTRDVAL   -3.74e-09   1.05e-09     -3.576      0.000   -5.81e-09   -1.68e-09\n",
              "==============================================================================\n",
              "Omnibus:                       24.215   Durbin-Watson:                   2.089\n",
              "Prob(Omnibus):                  0.000   Jarque-Bera (JB):              110.752\n",
              "Skew:                           0.286   Prob(JB):                     8.92e-25\n",
              "Kurtosis:                       6.889   Cond. No.                     1.66e+08\n",
              "==============================================================================\n",
              "\n",
              "Warnings:\n",
              "[1] Standard Errors assume that the covariance matrix of the errors is correctly specified.\n",
              "[2] The condition number is large, 1.66e+08. This might indicate that there are\n",
              "strong multicollinearity or other numerical problems.\n",
              "\"\"\""
            ]
          },
          "metadata": {
            "tags": []
          },
          "execution_count": 11
        }
      ]
    },
    {
      "cell_type": "code",
      "metadata": {
        "id": "N5399G05xqso",
        "colab_type": "code",
        "outputId": "9b1f5c13-c950-4168-c8ab-20dabec70a2d",
        "colab": {
          "base_uri": "https://localhost:8080/",
          "height": 541
        }
      },
      "source": [
        "lin_model_2 = sm.OLS(Y_test1, X_test1)\n",
        "result1 = lin_model_2.fit()\n",
        "result1.summary()"
      ],
      "execution_count": 12,
      "outputs": [
        {
          "output_type": "execute_result",
          "data": {
            "text/html": [
              "<table class=\"simpletable\">\n",
              "<caption>OLS Regression Results</caption>\n",
              "<tr>\n",
              "  <th>Dep. Variable:</th>            <td>y</td>        <th>  R-squared:         </th> <td>   0.996</td>\n",
              "</tr>\n",
              "<tr>\n",
              "  <th>Model:</th>                   <td>OLS</td>       <th>  Adj. R-squared:    </th> <td>   0.995</td>\n",
              "</tr>\n",
              "<tr>\n",
              "  <th>Method:</th>             <td>Least Squares</td>  <th>  F-statistic:       </th> <td>   2189.</td>\n",
              "</tr>\n",
              "<tr>\n",
              "  <th>Date:</th>             <td>Sat, 06 Jun 2020</td> <th>  Prob (F-statistic):</th> <td>2.37e-44</td>\n",
              "</tr>\n",
              "<tr>\n",
              "  <th>Time:</th>                 <td>10:45:03</td>     <th>  Log-Likelihood:    </th> <td>  6.8091</td>\n",
              "</tr>\n",
              "<tr>\n",
              "  <th>No. Observations:</th>      <td>    43</td>      <th>  AIC:               </th> <td>  -3.618</td>\n",
              "</tr>\n",
              "<tr>\n",
              "  <th>Df Residuals:</th>          <td>    38</td>      <th>  BIC:               </th> <td>   5.188</td>\n",
              "</tr>\n",
              "<tr>\n",
              "  <th>Df Model:</th>              <td>     4</td>      <th>                     </th>     <td> </td>   \n",
              "</tr>\n",
              "<tr>\n",
              "  <th>Covariance Type:</th>      <td>nonrobust</td>    <th>                     </th>     <td> </td>   \n",
              "</tr>\n",
              "</table>\n",
              "<table class=\"simpletable\">\n",
              "<tr>\n",
              "      <td></td>         <th>coef</th>     <th>std err</th>      <th>t</th>      <th>P>|t|</th>  <th>[0.025</th>    <th>0.975]</th>  \n",
              "</tr>\n",
              "<tr>\n",
              "  <th>const</th>     <td>   -0.5135</td> <td>    0.242</td> <td>   -2.124</td> <td> 0.040</td> <td>   -1.003</td> <td>   -0.024</td>\n",
              "</tr>\n",
              "<tr>\n",
              "  <th>OPEN</th>      <td>    0.0682</td> <td>    0.155</td> <td>    0.441</td> <td> 0.662</td> <td>   -0.245</td> <td>    0.381</td>\n",
              "</tr>\n",
              "<tr>\n",
              "  <th>HIGH</th>      <td>    0.6770</td> <td>    0.169</td> <td>    4.016</td> <td> 0.000</td> <td>    0.336</td> <td>    1.018</td>\n",
              "</tr>\n",
              "<tr>\n",
              "  <th>LOW</th>       <td>    0.2815</td> <td>    0.066</td> <td>    4.275</td> <td> 0.000</td> <td>    0.148</td> <td>    0.415</td>\n",
              "</tr>\n",
              "<tr>\n",
              "  <th>TOTTRDVAL</th> <td>-7.238e-09</td> <td>    4e-09</td> <td>   -1.809</td> <td> 0.078</td> <td>-1.53e-08</td> <td> 8.64e-10</td>\n",
              "</tr>\n",
              "</table>\n",
              "<table class=\"simpletable\">\n",
              "<tr>\n",
              "  <th>Omnibus:</th>       <td> 5.432</td> <th>  Durbin-Watson:     </th> <td>   2.412</td>\n",
              "</tr>\n",
              "<tr>\n",
              "  <th>Prob(Omnibus):</th> <td> 0.066</td> <th>  Jarque-Bera (JB):  </th> <td>   5.684</td>\n",
              "</tr>\n",
              "<tr>\n",
              "  <th>Skew:</th>          <td> 0.326</td> <th>  Prob(JB):          </th> <td>  0.0583</td>\n",
              "</tr>\n",
              "<tr>\n",
              "  <th>Kurtosis:</th>      <td> 4.657</td> <th>  Cond. No.          </th> <td>1.50e+08</td>\n",
              "</tr>\n",
              "</table><br/><br/>Warnings:<br/>[1] Standard Errors assume that the covariance matrix of the errors is correctly specified.<br/>[2] The condition number is large, 1.5e+08. This might indicate that there are<br/>strong multicollinearity or other numerical problems."
            ],
            "text/plain": [
              "<class 'statsmodels.iolib.summary.Summary'>\n",
              "\"\"\"\n",
              "                            OLS Regression Results                            \n",
              "==============================================================================\n",
              "Dep. Variable:                      y   R-squared:                       0.996\n",
              "Model:                            OLS   Adj. R-squared:                  0.995\n",
              "Method:                 Least Squares   F-statistic:                     2189.\n",
              "Date:                Sat, 06 Jun 2020   Prob (F-statistic):           2.37e-44\n",
              "Time:                        10:45:03   Log-Likelihood:                 6.8091\n",
              "No. Observations:                  43   AIC:                            -3.618\n",
              "Df Residuals:                      38   BIC:                             5.188\n",
              "Df Model:                           4                                         \n",
              "Covariance Type:            nonrobust                                         \n",
              "==============================================================================\n",
              "                 coef    std err          t      P>|t|      [0.025      0.975]\n",
              "------------------------------------------------------------------------------\n",
              "const         -0.5135      0.242     -2.124      0.040      -1.003      -0.024\n",
              "OPEN           0.0682      0.155      0.441      0.662      -0.245       0.381\n",
              "HIGH           0.6770      0.169      4.016      0.000       0.336       1.018\n",
              "LOW            0.2815      0.066      4.275      0.000       0.148       0.415\n",
              "TOTTRDVAL  -7.238e-09      4e-09     -1.809      0.078   -1.53e-08    8.64e-10\n",
              "==============================================================================\n",
              "Omnibus:                        5.432   Durbin-Watson:                   2.412\n",
              "Prob(Omnibus):                  0.066   Jarque-Bera (JB):                5.684\n",
              "Skew:                           0.326   Prob(JB):                       0.0583\n",
              "Kurtosis:                       4.657   Cond. No.                     1.50e+08\n",
              "==============================================================================\n",
              "\n",
              "Warnings:\n",
              "[1] Standard Errors assume that the covariance matrix of the errors is correctly specified.\n",
              "[2] The condition number is large, 1.5e+08. This might indicate that there are\n",
              "strong multicollinearity or other numerical problems.\n",
              "\"\"\""
            ]
          },
          "metadata": {
            "tags": []
          },
          "execution_count": 12
        }
      ]
    },
    {
      "cell_type": "code",
      "metadata": {
        "id": "MQMrRDMzxqyg",
        "colab_type": "code",
        "outputId": "def1b04b-3289-48a8-da95-b432895b0a71",
        "colab": {
          "base_uri": "https://localhost:8080/",
          "height": 34
        }
      },
      "source": [
        "#Prediction for train data \n",
        "predictions = result.predict(sm.add_constant(X_train1))\n",
        "metrics.mean_squared_error(Y_train1,predictions)"
      ],
      "execution_count": 13,
      "outputs": [
        {
          "output_type": "execute_result",
          "data": {
            "text/plain": [
              "0.023462622940561558"
            ]
          },
          "metadata": {
            "tags": []
          },
          "execution_count": 13
        }
      ]
    },
    {
      "cell_type": "code",
      "metadata": {
        "id": "b7jUoOi5xqwR",
        "colab_type": "code",
        "outputId": "44199163-ed8f-4632-a87c-dbb487eaf42c",
        "colab": {
          "base_uri": "https://localhost:8080/",
          "height": 34
        }
      },
      "source": [
        "#Prediction for test data\n",
        "predictions1 = result.predict(sm.add_constant(X_test1))\n",
        "metrics.mean_squared_error(Y_test1,predictions1)"
      ],
      "execution_count": 14,
      "outputs": [
        {
          "output_type": "execute_result",
          "data": {
            "text/plain": [
              "0.06949963433629386"
            ]
          },
          "metadata": {
            "tags": []
          },
          "execution_count": 14
        }
      ]
    },
    {
      "cell_type": "code",
      "metadata": {
        "id": "6IX_2p4wxqqL",
        "colab_type": "code",
        "outputId": "59c487f4-a214-410e-ac52-f96e52c88ec6",
        "colab": {
          "base_uri": "https://localhost:8080/",
          "height": 34
        }
      },
      "source": [
        "r2_score(Y_test1, predictions1)"
      ],
      "execution_count": 15,
      "outputs": [
        {
          "output_type": "execute_result",
          "data": {
            "text/plain": [
              "0.9929610889423238"
            ]
          },
          "metadata": {
            "tags": []
          },
          "execution_count": 15
        }
      ]
    },
    {
      "cell_type": "code",
      "metadata": {
        "id": "OyiD_LbnyEyj",
        "colab_type": "code",
        "outputId": "b1e0d4b9-cc8e-4040-9fa6-60242da17600",
        "colab": {
          "base_uri": "https://localhost:8080/",
          "height": 279
        }
      },
      "source": [
        "fig = sm.qqplot(predictions1)\n",
        "\n",
        "plt.show()"
      ],
      "execution_count": 16,
      "outputs": [
        {
          "output_type": "display_data",
          "data": {
            "image/png": "[encoded data removed]",
            "text/plain": [
              "<Figure size 432x288 with 1 Axes>"
            ]
          },
          "metadata": {
            "tags": [],
            "needs_background": "light"
          }
        }
      ]
    },
    {
      "cell_type": "markdown",
      "metadata": {
        "id": "J4vc7jNeygHN",
        "colab_type": "text"
      },
      "source": [
        "Multiple Linear Regression using Scikit-Learn"
      ]
    },
    {
      "cell_type": "code",
      "metadata": {
        "id": "SX3BUUkTyE8S",
        "colab_type": "code",
        "outputId": "5f25e647-a6e5-421d-b646-efbaa58f340b",
        "colab": {
          "base_uri": "https://localhost:8080/",
          "height": 204
        }
      },
      "source": [
        "IOB.head()"
      ],
      "execution_count": 17,
      "outputs": [
        {
          "output_type": "execute_result",
          "data": {
            "text/html": [
              "<div>\n",
              "<style scoped>\n",
              "    .dataframe tbody tr th:only-of-type {\n",
              "        vertical-align: middle;\n",
              "    }\n",
              "\n",
              "    .dataframe tbody tr th {\n",
              "        vertical-align: top;\n",
              "    }\n",
              "\n",
              "    .dataframe thead th {\n",
              "        text-align: right;\n",
              "    }\n",
              "</style>\n",
              "<table border=\"1\" class=\"dataframe\">\n",
              "  <thead>\n",
              "    <tr style=\"text-align: right;\">\n",
              "      <th></th>\n",
              "      <th>SYMBOL</th>\n",
              "      <th>sector</th>\n",
              "      <th>OPEN</th>\n",
              "      <th>HIGH</th>\n",
              "      <th>LOW</th>\n",
              "      <th>CLOSE</th>\n",
              "      <th>TOTTRDQTY</th>\n",
              "      <th>TOTTRDVAL</th>\n",
              "      <th>TIMESTAMP</th>\n",
              "      <th>TOTALTRADES</th>\n",
              "    </tr>\n",
              "  </thead>\n",
              "  <tbody>\n",
              "    <tr>\n",
              "      <th>134744</th>\n",
              "      <td>IOB</td>\n",
              "      <td>Banks - PSU</td>\n",
              "      <td>22.20</td>\n",
              "      <td>22.60</td>\n",
              "      <td>22.15</td>\n",
              "      <td>22.45</td>\n",
              "      <td>970208</td>\n",
              "      <td>2.178484e+07</td>\n",
              "      <td>1/1/2018 0:00</td>\n",
              "      <td>2046</td>\n",
              "    </tr>\n",
              "    <tr>\n",
              "      <th>134745</th>\n",
              "      <td>IOB</td>\n",
              "      <td>Banks - PSU</td>\n",
              "      <td>22.35</td>\n",
              "      <td>22.60</td>\n",
              "      <td>22.30</td>\n",
              "      <td>22.35</td>\n",
              "      <td>717179</td>\n",
              "      <td>1.608124e+07</td>\n",
              "      <td>1/2/2018 0:00</td>\n",
              "      <td>1954</td>\n",
              "    </tr>\n",
              "    <tr>\n",
              "      <th>134746</th>\n",
              "      <td>IOB</td>\n",
              "      <td>Banks - PSU</td>\n",
              "      <td>22.40</td>\n",
              "      <td>22.65</td>\n",
              "      <td>22.25</td>\n",
              "      <td>22.50</td>\n",
              "      <td>1002936</td>\n",
              "      <td>2.253496e+07</td>\n",
              "      <td>1/3/2018 0:00</td>\n",
              "      <td>1322</td>\n",
              "    </tr>\n",
              "    <tr>\n",
              "      <th>134747</th>\n",
              "      <td>IOB</td>\n",
              "      <td>Banks - PSU</td>\n",
              "      <td>22.70</td>\n",
              "      <td>23.45</td>\n",
              "      <td>22.65</td>\n",
              "      <td>23.05</td>\n",
              "      <td>2846170</td>\n",
              "      <td>6.572533e+07</td>\n",
              "      <td>1/4/2018 0:00</td>\n",
              "      <td>4526</td>\n",
              "    </tr>\n",
              "    <tr>\n",
              "      <th>134748</th>\n",
              "      <td>IOB</td>\n",
              "      <td>Banks - PSU</td>\n",
              "      <td>24.50</td>\n",
              "      <td>25.40</td>\n",
              "      <td>23.90</td>\n",
              "      <td>24.15</td>\n",
              "      <td>5906944</td>\n",
              "      <td>1.436609e+08</td>\n",
              "      <td>1/5/2018 0:00</td>\n",
              "      <td>9965</td>\n",
              "    </tr>\n",
              "  </tbody>\n",
              "</table>\n",
              "</div>"
            ],
            "text/plain": [
              "       SYMBOL       sector   OPEN  ...     TOTTRDVAL      TIMESTAMP  TOTALTRADES\n",
              "134744    IOB  Banks - PSU  22.20  ...  2.178484e+07  1/1/2018 0:00         2046\n",
              "134745    IOB  Banks - PSU  22.35  ...  1.608124e+07  1/2/2018 0:00         1954\n",
              "134746    IOB  Banks - PSU  22.40  ...  2.253496e+07  1/3/2018 0:00         1322\n",
              "134747    IOB  Banks - PSU  22.70  ...  6.572533e+07  1/4/2018 0:00         4526\n",
              "134748    IOB  Banks - PSU  24.50  ...  1.436609e+08  1/5/2018 0:00         9965\n",
              "\n",
              "[5 rows x 10 columns]"
            ]
          },
          "metadata": {
            "tags": []
          },
          "execution_count": 17
        }
      ]
    },
    {
      "cell_type": "code",
      "metadata": {
        "id": "1ef0R-2wyE_b",
        "colab_type": "code",
        "outputId": "b9779f03-f95e-4905-f930-d4588b8ea900",
        "colab": {
          "base_uri": "https://localhost:8080/",
          "height": 204
        }
      },
      "source": [
        "df1 = IOB.drop(['SYMBOL', 'sector', 'TOTTRDQTY','TIMESTAMP','TOTALTRADES'], axis=1)\n",
        "df1.head()"
      ],
      "execution_count": 18,
      "outputs": [
        {
          "output_type": "execute_result",
          "data": {
            "text/html": [
              "<div>\n",
              "<style scoped>\n",
              "    .dataframe tbody tr th:only-of-type {\n",
              "        vertical-align: middle;\n",
              "    }\n",
              "\n",
              "    .dataframe tbody tr th {\n",
              "        vertical-align: top;\n",
              "    }\n",
              "\n",
              "    .dataframe thead th {\n",
              "        text-align: right;\n",
              "    }\n",
              "</style>\n",
              "<table border=\"1\" class=\"dataframe\">\n",
              "  <thead>\n",
              "    <tr style=\"text-align: right;\">\n",
              "      <th></th>\n",
              "      <th>OPEN</th>\n",
              "      <th>HIGH</th>\n",
              "      <th>LOW</th>\n",
              "      <th>CLOSE</th>\n",
              "      <th>TOTTRDVAL</th>\n",
              "    </tr>\n",
              "  </thead>\n",
              "  <tbody>\n",
              "    <tr>\n",
              "      <th>134744</th>\n",
              "      <td>22.20</td>\n",
              "      <td>22.60</td>\n",
              "      <td>22.15</td>\n",
              "      <td>22.45</td>\n",
              "      <td>2.178484e+07</td>\n",
              "    </tr>\n",
              "    <tr>\n",
              "      <th>134745</th>\n",
              "      <td>22.35</td>\n",
              "      <td>22.60</td>\n",
              "      <td>22.30</td>\n",
              "      <td>22.35</td>\n",
              "      <td>1.608124e+07</td>\n",
              "    </tr>\n",
              "    <tr>\n",
              "      <th>134746</th>\n",
              "      <td>22.40</td>\n",
              "      <td>22.65</td>\n",
              "      <td>22.25</td>\n",
              "      <td>22.50</td>\n",
              "      <td>2.253496e+07</td>\n",
              "    </tr>\n",
              "    <tr>\n",
              "      <th>134747</th>\n",
              "      <td>22.70</td>\n",
              "      <td>23.45</td>\n",
              "      <td>22.65</td>\n",
              "      <td>23.05</td>\n",
              "      <td>6.572533e+07</td>\n",
              "    </tr>\n",
              "    <tr>\n",
              "      <th>134748</th>\n",
              "      <td>24.50</td>\n",
              "      <td>25.40</td>\n",
              "      <td>23.90</td>\n",
              "      <td>24.15</td>\n",
              "      <td>1.436609e+08</td>\n",
              "    </tr>\n",
              "  </tbody>\n",
              "</table>\n",
              "</div>"
            ],
            "text/plain": [
              "         OPEN   HIGH    LOW  CLOSE     TOTTRDVAL\n",
              "134744  22.20  22.60  22.15  22.45  2.178484e+07\n",
              "134745  22.35  22.60  22.30  22.35  1.608124e+07\n",
              "134746  22.40  22.65  22.25  22.50  2.253496e+07\n",
              "134747  22.70  23.45  22.65  23.05  6.572533e+07\n",
              "134748  24.50  25.40  23.90  24.15  1.436609e+08"
            ]
          },
          "metadata": {
            "tags": []
          },
          "execution_count": 18
        }
      ]
    },
    {
      "cell_type": "code",
      "metadata": {
        "id": "PSgG0tY5yFFs",
        "colab_type": "code",
        "colab": {}
      },
      "source": [
        "x = df1[['OPEN','HIGH','LOW','TOTTRDVAL']]\n",
        "y = df1['CLOSE'].values"
      ],
      "execution_count": 0,
      "outputs": []
    },
    {
      "cell_type": "code",
      "metadata": {
        "id": "gnoQQ6dryFDG",
        "colab_type": "code",
        "colab": {}
      },
      "source": [
        "x_train,x_test,y_train,y_test = train_test_split(x,y,test_size = 0.1,random_state = 0)"
      ],
      "execution_count": 0,
      "outputs": []
    },
    {
      "cell_type": "code",
      "metadata": {
        "id": "BvE3td-yz05J",
        "colab_type": "code",
        "colab": {}
      },
      "source": [
        "my_model = LinearRegression(normalize=True)"
      ],
      "execution_count": 0,
      "outputs": []
    },
    {
      "cell_type": "code",
      "metadata": {
        "id": "GGceAwp1z080",
        "colab_type": "code",
        "outputId": "bb8a8240-3974-4723-a980-6c680c681b67",
        "colab": {
          "base_uri": "https://localhost:8080/",
          "height": 34
        }
      },
      "source": [
        "my_model.fit(X_train, Y_train)"
      ],
      "execution_count": 22,
      "outputs": [
        {
          "output_type": "execute_result",
          "data": {
            "text/plain": [
              "LinearRegression(copy_X=True, fit_intercept=True, n_jobs=None, normalize=True)"
            ]
          },
          "metadata": {
            "tags": []
          },
          "execution_count": 22
        }
      ]
    },
    {
      "cell_type": "code",
      "metadata": {
        "id": "f77p1GXUz1AM",
        "colab_type": "code",
        "colab": {}
      },
      "source": [
        "predictions = my_model.predict(X_test)"
      ],
      "execution_count": 0,
      "outputs": []
    },
    {
      "cell_type": "code",
      "metadata": {
        "id": "FJ50TCItz1FR",
        "colab_type": "code",
        "outputId": "7070a4e0-f2b6-416e-82c2-5cea4c7ae63d",
        "colab": {
          "base_uri": "https://localhost:8080/",
          "height": 359
        }
      },
      "source": [
        "pd.DataFrame({'CLOSE': Y_test, 'predictions':predictions}).sample(10)"
      ],
      "execution_count": 24,
      "outputs": [
        {
          "output_type": "execute_result",
          "data": {
            "text/html": [
              "<div>\n",
              "<style scoped>\n",
              "    .dataframe tbody tr th:only-of-type {\n",
              "        vertical-align: middle;\n",
              "    }\n",
              "\n",
              "    .dataframe tbody tr th {\n",
              "        vertical-align: top;\n",
              "    }\n",
              "\n",
              "    .dataframe thead th {\n",
              "        text-align: right;\n",
              "    }\n",
              "</style>\n",
              "<table border=\"1\" class=\"dataframe\">\n",
              "  <thead>\n",
              "    <tr style=\"text-align: right;\">\n",
              "      <th></th>\n",
              "      <th>CLOSE</th>\n",
              "      <th>predictions</th>\n",
              "    </tr>\n",
              "  </thead>\n",
              "  <tbody>\n",
              "    <tr>\n",
              "      <th>33</th>\n",
              "      <td>14.55</td>\n",
              "      <td>14.605967</td>\n",
              "    </tr>\n",
              "    <tr>\n",
              "      <th>15</th>\n",
              "      <td>12.80</td>\n",
              "      <td>12.781788</td>\n",
              "    </tr>\n",
              "    <tr>\n",
              "      <th>5</th>\n",
              "      <td>14.15</td>\n",
              "      <td>13.952203</td>\n",
              "    </tr>\n",
              "    <tr>\n",
              "      <th>26</th>\n",
              "      <td>16.25</td>\n",
              "      <td>16.269866</td>\n",
              "    </tr>\n",
              "    <tr>\n",
              "      <th>40</th>\n",
              "      <td>14.75</td>\n",
              "      <td>14.812196</td>\n",
              "    </tr>\n",
              "    <tr>\n",
              "      <th>22</th>\n",
              "      <td>13.90</td>\n",
              "      <td>14.009953</td>\n",
              "    </tr>\n",
              "    <tr>\n",
              "      <th>8</th>\n",
              "      <td>23.95</td>\n",
              "      <td>23.815775</td>\n",
              "    </tr>\n",
              "    <tr>\n",
              "      <th>25</th>\n",
              "      <td>18.10</td>\n",
              "      <td>17.973611</td>\n",
              "    </tr>\n",
              "    <tr>\n",
              "      <th>21</th>\n",
              "      <td>14.50</td>\n",
              "      <td>14.519502</td>\n",
              "    </tr>\n",
              "    <tr>\n",
              "      <th>6</th>\n",
              "      <td>13.10</td>\n",
              "      <td>13.368806</td>\n",
              "    </tr>\n",
              "  </tbody>\n",
              "</table>\n",
              "</div>"
            ],
            "text/plain": [
              "    CLOSE  predictions\n",
              "33  14.55    14.605967\n",
              "15  12.80    12.781788\n",
              "5   14.15    13.952203\n",
              "26  16.25    16.269866\n",
              "40  14.75    14.812196\n",
              "22  13.90    14.009953\n",
              "8   23.95    23.815775\n",
              "25  18.10    17.973611\n",
              "21  14.50    14.519502\n",
              "6   13.10    13.368806"
            ]
          },
          "metadata": {
            "tags": []
          },
          "execution_count": 24
        }
      ]
    },
    {
      "cell_type": "code",
      "metadata": {
        "id": "ApRDctmJ9655",
        "colab_type": "code",
        "colab": {}
      },
      "source": [
        ""
      ],
      "execution_count": 0,
      "outputs": []
    },
    {
      "cell_type": "code",
      "metadata": {
        "id": "F18UETKHHnJe",
        "colab_type": "code",
        "colab": {}
      },
      "source": [
        ""
      ],
      "execution_count": 0,
      "outputs": []
    },
    {
      "cell_type": "markdown",
      "metadata": {
        "id": "qDUIRIbrHna7",
        "colab_type": "text"
      },
      "source": [
        "plt.figure(figsize=(10,8))\n",
        "plt.title('Linear Model')\n",
        "plt.plot(IOB['CLOSE'])\n",
        "plt.plot(predictions[['predictions']])\n",
        "plt.legend(['Orig', 'Pred'])\n",
        "plt.show()"
      ]
    },
    {
      "cell_type": "code",
      "metadata": {
        "id": "DZNOj4yb1r-y",
        "colab_type": "code",
        "outputId": "5d0fc9df-81e3-4c61-b253-8197eecfcd54",
        "colab": {
          "base_uri": "https://localhost:8080/",
          "height": 51
        }
      },
      "source": [
        "my_model.coef_"
      ],
      "execution_count": 25,
      "outputs": [
        {
          "output_type": "execute_result",
          "data": {
            "text/plain": [
              "array([ 0.00000000e+00, -1.21800751e-01,  5.65505603e-01,  5.57482279e-01,\n",
              "        8.15932763e-08, -4.59983136e-09, -4.36533298e-05])"
            ]
          },
          "metadata": {
            "tags": []
          },
          "execution_count": 25
        }
      ]
    },
    {
      "cell_type": "code",
      "metadata": {
        "id": "ZVB2pGEM1sCm",
        "colab_type": "code",
        "outputId": "3287bdd3-7908-48c9-b6ae-3bf421aa2fc0",
        "colab": {
          "base_uri": "https://localhost:8080/",
          "height": 34
        }
      },
      "source": [
        "my_model.intercept_"
      ],
      "execution_count": 26,
      "outputs": [
        {
          "output_type": "execute_result",
          "data": {
            "text/plain": [
              "-0.012606380531792638"
            ]
          },
          "metadata": {
            "tags": []
          },
          "execution_count": 26
        }
      ]
    },
    {
      "cell_type": "code",
      "metadata": {
        "id": "jMsvpw6B1sIR",
        "colab_type": "code",
        "outputId": "f55fc72c-8eb0-4d8b-96df-2056acbdb1f4",
        "colab": {
          "base_uri": "https://localhost:8080/",
          "height": 34
        }
      },
      "source": [
        "my_model.score(X_test, Y_test)"
      ],
      "execution_count": 27,
      "outputs": [
        {
          "output_type": "execute_result",
          "data": {
            "text/plain": [
              "0.993274524811112"
            ]
          },
          "metadata": {
            "tags": []
          },
          "execution_count": 27
        }
      ]
    },
    {
      "cell_type": "code",
      "metadata": {
        "id": "HgFHbJ2T1sGn",
        "colab_type": "code",
        "outputId": "6fa9aa52-221c-4120-fc2d-b1eb23095864",
        "colab": {
          "base_uri": "https://localhost:8080/",
          "height": 34
        }
      },
      "source": [
        "mean_absolute_error(Y_test, predictions)"
      ],
      "execution_count": 28,
      "outputs": [
        {
          "output_type": "execute_result",
          "data": {
            "text/plain": [
              "0.13760653128340633"
            ]
          },
          "metadata": {
            "tags": []
          },
          "execution_count": 28
        }
      ]
    },
    {
      "cell_type": "code",
      "metadata": {
        "id": "Ztw3rPA9154A",
        "colab_type": "code",
        "outputId": "0a213be7-d0d4-41e4-ae64-e9c5de894cfb",
        "colab": {
          "base_uri": "https://localhost:8080/",
          "height": 34
        }
      },
      "source": [
        "mean_squared_error(Y_test, predictions)"
      ],
      "execution_count": 29,
      "outputs": [
        {
          "output_type": "execute_result",
          "data": {
            "text/plain": [
              "0.06640488316098167"
            ]
          },
          "metadata": {
            "tags": []
          },
          "execution_count": 29
        }
      ]
    },
    {
      "cell_type": "code",
      "metadata": {
        "id": "Y-KxMRHC2RxS",
        "colab_type": "code",
        "outputId": "3422e374-5f9f-49c3-dfbf-4541bdfae140",
        "colab": {
          "base_uri": "https://localhost:8080/",
          "height": 34
        }
      },
      "source": [
        "r2_score(Y_test, predictions)"
      ],
      "execution_count": 30,
      "outputs": [
        {
          "output_type": "execute_result",
          "data": {
            "text/plain": [
              "0.993274524811112"
            ]
          },
          "metadata": {
            "tags": []
          },
          "execution_count": 30
        }
      ]
    },
    {
      "cell_type": "markdown",
      "metadata": {
        "id": "pjf13UTDK5Lx",
        "colab_type": "text"
      },
      "source": [
        "Decision Tree Regressor"
      ]
    },
    {
      "cell_type": "code",
      "metadata": {
        "id": "UwTbUXCaKzMZ",
        "colab_type": "code",
        "colab": {
          "base_uri": "https://localhost:8080/",
          "height": 204
        },
        "outputId": "ede9a30c-f140-47fd-8b19-bc4ad7750fc2"
      },
      "source": [
        "IOB.head()"
      ],
      "execution_count": 31,
      "outputs": [
        {
          "output_type": "execute_result",
          "data": {
            "text/html": [
              "<div>\n",
              "<style scoped>\n",
              "    .dataframe tbody tr th:only-of-type {\n",
              "        vertical-align: middle;\n",
              "    }\n",
              "\n",
              "    .dataframe tbody tr th {\n",
              "        vertical-align: top;\n",
              "    }\n",
              "\n",
              "    .dataframe thead th {\n",
              "        text-align: right;\n",
              "    }\n",
              "</style>\n",
              "<table border=\"1\" class=\"dataframe\">\n",
              "  <thead>\n",
              "    <tr style=\"text-align: right;\">\n",
              "      <th></th>\n",
              "      <th>SYMBOL</th>\n",
              "      <th>sector</th>\n",
              "      <th>OPEN</th>\n",
              "      <th>HIGH</th>\n",
              "      <th>LOW</th>\n",
              "      <th>CLOSE</th>\n",
              "      <th>TOTTRDQTY</th>\n",
              "      <th>TOTTRDVAL</th>\n",
              "      <th>TIMESTAMP</th>\n",
              "      <th>TOTALTRADES</th>\n",
              "    </tr>\n",
              "  </thead>\n",
              "  <tbody>\n",
              "    <tr>\n",
              "      <th>134744</th>\n",
              "      <td>IOB</td>\n",
              "      <td>Banks - PSU</td>\n",
              "      <td>22.20</td>\n",
              "      <td>22.60</td>\n",
              "      <td>22.15</td>\n",
              "      <td>22.45</td>\n",
              "      <td>970208</td>\n",
              "      <td>2.178484e+07</td>\n",
              "      <td>1/1/2018 0:00</td>\n",
              "      <td>2046</td>\n",
              "    </tr>\n",
              "    <tr>\n",
              "      <th>134745</th>\n",
              "      <td>IOB</td>\n",
              "      <td>Banks - PSU</td>\n",
              "      <td>22.35</td>\n",
              "      <td>22.60</td>\n",
              "      <td>22.30</td>\n",
              "      <td>22.35</td>\n",
              "      <td>717179</td>\n",
              "      <td>1.608124e+07</td>\n",
              "      <td>1/2/2018 0:00</td>\n",
              "      <td>1954</td>\n",
              "    </tr>\n",
              "    <tr>\n",
              "      <th>134746</th>\n",
              "      <td>IOB</td>\n",
              "      <td>Banks - PSU</td>\n",
              "      <td>22.40</td>\n",
              "      <td>22.65</td>\n",
              "      <td>22.25</td>\n",
              "      <td>22.50</td>\n",
              "      <td>1002936</td>\n",
              "      <td>2.253496e+07</td>\n",
              "      <td>1/3/2018 0:00</td>\n",
              "      <td>1322</td>\n",
              "    </tr>\n",
              "    <tr>\n",
              "      <th>134747</th>\n",
              "      <td>IOB</td>\n",
              "      <td>Banks - PSU</td>\n",
              "      <td>22.70</td>\n",
              "      <td>23.45</td>\n",
              "      <td>22.65</td>\n",
              "      <td>23.05</td>\n",
              "      <td>2846170</td>\n",
              "      <td>6.572533e+07</td>\n",
              "      <td>1/4/2018 0:00</td>\n",
              "      <td>4526</td>\n",
              "    </tr>\n",
              "    <tr>\n",
              "      <th>134748</th>\n",
              "      <td>IOB</td>\n",
              "      <td>Banks - PSU</td>\n",
              "      <td>24.50</td>\n",
              "      <td>25.40</td>\n",
              "      <td>23.90</td>\n",
              "      <td>24.15</td>\n",
              "      <td>5906944</td>\n",
              "      <td>1.436609e+08</td>\n",
              "      <td>1/5/2018 0:00</td>\n",
              "      <td>9965</td>\n",
              "    </tr>\n",
              "  </tbody>\n",
              "</table>\n",
              "</div>"
            ],
            "text/plain": [
              "       SYMBOL       sector   OPEN  ...     TOTTRDVAL      TIMESTAMP  TOTALTRADES\n",
              "134744    IOB  Banks - PSU  22.20  ...  2.178484e+07  1/1/2018 0:00         2046\n",
              "134745    IOB  Banks - PSU  22.35  ...  1.608124e+07  1/2/2018 0:00         1954\n",
              "134746    IOB  Banks - PSU  22.40  ...  2.253496e+07  1/3/2018 0:00         1322\n",
              "134747    IOB  Banks - PSU  22.70  ...  6.572533e+07  1/4/2018 0:00         4526\n",
              "134748    IOB  Banks - PSU  24.50  ...  1.436609e+08  1/5/2018 0:00         9965\n",
              "\n",
              "[5 rows x 10 columns]"
            ]
          },
          "metadata": {
            "tags": []
          },
          "execution_count": 31
        }
      ]
    },
    {
      "cell_type": "code",
      "metadata": {
        "id": "e2rGgXQeKzVJ",
        "colab_type": "code",
        "colab": {}
      },
      "source": [
        "x = IOB[['OPEN','HIGH','LOW','TOTTRDQTY','TOTALTRADES']]\n",
        "y = IOB['CLOSE']"
      ],
      "execution_count": 0,
      "outputs": []
    },
    {
      "cell_type": "code",
      "metadata": {
        "id": "LJdM9So_Kzbh",
        "colab_type": "code",
        "colab": {
          "base_uri": "https://localhost:8080/",
          "height": 204
        },
        "outputId": "aa9f1cd9-edd8-40ec-e83e-6eed43f130a1"
      },
      "source": [
        "x.head()"
      ],
      "execution_count": 33,
      "outputs": [
        {
          "output_type": "execute_result",
          "data": {
            "text/html": [
              "<div>\n",
              "<style scoped>\n",
              "    .dataframe tbody tr th:only-of-type {\n",
              "        vertical-align: middle;\n",
              "    }\n",
              "\n",
              "    .dataframe tbody tr th {\n",
              "        vertical-align: top;\n",
              "    }\n",
              "\n",
              "    .dataframe thead th {\n",
              "        text-align: right;\n",
              "    }\n",
              "</style>\n",
              "<table border=\"1\" class=\"dataframe\">\n",
              "  <thead>\n",
              "    <tr style=\"text-align: right;\">\n",
              "      <th></th>\n",
              "      <th>OPEN</th>\n",
              "      <th>HIGH</th>\n",
              "      <th>LOW</th>\n",
              "      <th>TOTTRDQTY</th>\n",
              "      <th>TOTALTRADES</th>\n",
              "    </tr>\n",
              "  </thead>\n",
              "  <tbody>\n",
              "    <tr>\n",
              "      <th>134744</th>\n",
              "      <td>22.20</td>\n",
              "      <td>22.60</td>\n",
              "      <td>22.15</td>\n",
              "      <td>970208</td>\n",
              "      <td>2046</td>\n",
              "    </tr>\n",
              "    <tr>\n",
              "      <th>134745</th>\n",
              "      <td>22.35</td>\n",
              "      <td>22.60</td>\n",
              "      <td>22.30</td>\n",
              "      <td>717179</td>\n",
              "      <td>1954</td>\n",
              "    </tr>\n",
              "    <tr>\n",
              "      <th>134746</th>\n",
              "      <td>22.40</td>\n",
              "      <td>22.65</td>\n",
              "      <td>22.25</td>\n",
              "      <td>1002936</td>\n",
              "      <td>1322</td>\n",
              "    </tr>\n",
              "    <tr>\n",
              "      <th>134747</th>\n",
              "      <td>22.70</td>\n",
              "      <td>23.45</td>\n",
              "      <td>22.65</td>\n",
              "      <td>2846170</td>\n",
              "      <td>4526</td>\n",
              "    </tr>\n",
              "    <tr>\n",
              "      <th>134748</th>\n",
              "      <td>24.50</td>\n",
              "      <td>25.40</td>\n",
              "      <td>23.90</td>\n",
              "      <td>5906944</td>\n",
              "      <td>9965</td>\n",
              "    </tr>\n",
              "  </tbody>\n",
              "</table>\n",
              "</div>"
            ],
            "text/plain": [
              "         OPEN   HIGH    LOW  TOTTRDQTY  TOTALTRADES\n",
              "134744  22.20  22.60  22.15     970208         2046\n",
              "134745  22.35  22.60  22.30     717179         1954\n",
              "134746  22.40  22.65  22.25    1002936         1322\n",
              "134747  22.70  23.45  22.65    2846170         4526\n",
              "134748  24.50  25.40  23.90    5906944         9965"
            ]
          },
          "metadata": {
            "tags": []
          },
          "execution_count": 33
        }
      ]
    },
    {
      "cell_type": "code",
      "metadata": {
        "id": "VIUzD1-dKzkM",
        "colab_type": "code",
        "colab": {
          "base_uri": "https://localhost:8080/",
          "height": 119
        },
        "outputId": "3cc73c94-a7f5-485d-886a-4b78de16cd3c"
      },
      "source": [
        "y.head()"
      ],
      "execution_count": 34,
      "outputs": [
        {
          "output_type": "execute_result",
          "data": {
            "text/plain": [
              "134744    22.45\n",
              "134745    22.35\n",
              "134746    22.50\n",
              "134747    23.05\n",
              "134748    24.15\n",
              "Name: CLOSE, dtype: float64"
            ]
          },
          "metadata": {
            "tags": []
          },
          "execution_count": 34
        }
      ]
    },
    {
      "cell_type": "code",
      "metadata": {
        "id": "5D8RUNNtLtRT",
        "colab_type": "code",
        "colab": {}
      },
      "source": [
        "x_train,x_test,y_train,y_test = train_test_split(x,y,test_size = 0.1,random_state = 0)"
      ],
      "execution_count": 0,
      "outputs": []
    },
    {
      "cell_type": "code",
      "metadata": {
        "id": "C6nQ5nWpKzrJ",
        "colab_type": "code",
        "colab": {}
      },
      "source": [
        "Classifier = DecisionTreeRegressor()"
      ],
      "execution_count": 0,
      "outputs": []
    },
    {
      "cell_type": "code",
      "metadata": {
        "id": "q-YoRdezKzxp",
        "colab_type": "code",
        "colab": {
          "base_uri": "https://localhost:8080/",
          "height": 119
        },
        "outputId": "593854c5-42bf-4b1e-fd1f-f20824213b8b"
      },
      "source": [
        "Classifier.fit(x_train,y_train)"
      ],
      "execution_count": 37,
      "outputs": [
        {
          "output_type": "execute_result",
          "data": {
            "text/plain": [
              "DecisionTreeRegressor(ccp_alpha=0.0, criterion='mse', max_depth=None,\n",
              "                      max_features=None, max_leaf_nodes=None,\n",
              "                      min_impurity_decrease=0.0, min_impurity_split=None,\n",
              "                      min_samples_leaf=1, min_samples_split=2,\n",
              "                      min_weight_fraction_leaf=0.0, presort='deprecated',\n",
              "                      random_state=None, splitter='best')"
            ]
          },
          "metadata": {
            "tags": []
          },
          "execution_count": 37
        }
      ]
    },
    {
      "cell_type": "code",
      "metadata": {
        "id": "mdepbCzsKz1j",
        "colab_type": "code",
        "colab": {}
      },
      "source": [
        "test = [[22.20,22.60,22.15,970208,2046]]"
      ],
      "execution_count": 0,
      "outputs": []
    },
    {
      "cell_type": "code",
      "metadata": {
        "id": "f0pYCHUWKzvq",
        "colab_type": "code",
        "colab": {}
      },
      "source": [
        "prediction = Classifier.predict(test)"
      ],
      "execution_count": 0,
      "outputs": []
    },
    {
      "cell_type": "code",
      "metadata": {
        "id": "RuaDtopAKzpH",
        "colab_type": "code",
        "colab": {
          "base_uri": "https://localhost:8080/",
          "height": 34
        },
        "outputId": "ec1abf14-95d8-4241-d1a8-0f96c62780a9"
      },
      "source": [
        "prediction"
      ],
      "execution_count": 40,
      "outputs": [
        {
          "output_type": "execute_result",
          "data": {
            "text/plain": [
              "array([22.45])"
            ]
          },
          "metadata": {
            "tags": []
          },
          "execution_count": 40
        }
      ]
    },
    {
      "cell_type": "code",
      "metadata": {
        "id": "_XmkUoEfKzh7",
        "colab_type": "code",
        "colab": {}
      },
      "source": [
        "from sklearn.model_selection import GridSearchCV"
      ],
      "execution_count": 0,
      "outputs": []
    },
    {
      "cell_type": "code",
      "metadata": {
        "id": "4ZijXO6RKzfQ",
        "colab_type": "code",
        "colab": {}
      },
      "source": [
        "param_grid = [{\"max_depth\":[2,3,4,None], \"max_features\":[1,2,3,4,None]}]"
      ],
      "execution_count": 0,
      "outputs": []
    },
    {
      "cell_type": "code",
      "metadata": {
        "id": "IniGbktoKzZM",
        "colab_type": "code",
        "colab": {}
      },
      "source": [
        "gs = GridSearchCV(estimator=DecisionTreeRegressor(random_state=123), param_grid=param_grid,cv=10)"
      ],
      "execution_count": 0,
      "outputs": []
    },
    {
      "cell_type": "code",
      "metadata": {
        "id": "dDw0VGOZKzR1",
        "colab_type": "code",
        "colab": {
          "base_uri": "https://localhost:8080/",
          "height": 306
        },
        "outputId": "683aab00-c90c-440e-9eb0-1ec3fd187c68"
      },
      "source": [
        "gs.fit(X_train,Y_train)"
      ],
      "execution_count": 44,
      "outputs": [
        {
          "output_type": "execute_result",
          "data": {
            "text/plain": [
              "GridSearchCV(cv=10, error_score=nan,\n",
              "             estimator=DecisionTreeRegressor(ccp_alpha=0.0, criterion='mse',\n",
              "                                             max_depth=None, max_features=None,\n",
              "                                             max_leaf_nodes=None,\n",
              "                                             min_impurity_decrease=0.0,\n",
              "                                             min_impurity_split=None,\n",
              "                                             min_samples_leaf=1,\n",
              "                                             min_samples_split=2,\n",
              "                                             min_weight_fraction_leaf=0.0,\n",
              "                                             presort='deprecated',\n",
              "                                             random_state=123,\n",
              "                                             splitter='best'),\n",
              "             iid='deprecated', n_jobs=None,\n",
              "             param_grid=[{'max_depth': [2, 3, 4, None],\n",
              "                          'max_features': [1, 2, 3, 4, None]}],\n",
              "             pre_dispatch='2*n_jobs', refit=True, return_train_score=False,\n",
              "             scoring=None, verbose=0)"
            ]
          },
          "metadata": {
            "tags": []
          },
          "execution_count": 44
        }
      ]
    },
    {
      "cell_type": "code",
      "metadata": {
        "id": "g9hKlQmGNfQr",
        "colab_type": "code",
        "colab": {
          "base_uri": "https://localhost:8080/",
          "height": 357
        },
        "outputId": "99183a4d-fede-43fc-dcdb-31b80df85f01"
      },
      "source": [
        "gs.cv_results_['params']"
      ],
      "execution_count": 45,
      "outputs": [
        {
          "output_type": "execute_result",
          "data": {
            "text/plain": [
              "[{'max_depth': 2, 'max_features': 1},\n",
              " {'max_depth': 2, 'max_features': 2},\n",
              " {'max_depth': 2, 'max_features': 3},\n",
              " {'max_depth': 2, 'max_features': 4},\n",
              " {'max_depth': 2, 'max_features': None},\n",
              " {'max_depth': 3, 'max_features': 1},\n",
              " {'max_depth': 3, 'max_features': 2},\n",
              " {'max_depth': 3, 'max_features': 3},\n",
              " {'max_depth': 3, 'max_features': 4},\n",
              " {'max_depth': 3, 'max_features': None},\n",
              " {'max_depth': 4, 'max_features': 1},\n",
              " {'max_depth': 4, 'max_features': 2},\n",
              " {'max_depth': 4, 'max_features': 3},\n",
              " {'max_depth': 4, 'max_features': 4},\n",
              " {'max_depth': 4, 'max_features': None},\n",
              " {'max_depth': None, 'max_features': 1},\n",
              " {'max_depth': None, 'max_features': 2},\n",
              " {'max_depth': None, 'max_features': 3},\n",
              " {'max_depth': None, 'max_features': 4},\n",
              " {'max_depth': None, 'max_features': None}]"
            ]
          },
          "metadata": {
            "tags": []
          },
          "execution_count": 45
        }
      ]
    },
    {
      "cell_type": "code",
      "metadata": {
        "id": "triDcy2NNfXL",
        "colab_type": "code",
        "colab": {
          "base_uri": "https://localhost:8080/",
          "height": 34
        },
        "outputId": "35d02ca1-0e17-456c-d3b8-6a7c1924408a"
      },
      "source": [
        "gs.best_params_"
      ],
      "execution_count": 46,
      "outputs": [
        {
          "output_type": "execute_result",
          "data": {
            "text/plain": [
              "{'max_depth': None, 'max_features': None}"
            ]
          },
          "metadata": {
            "tags": []
          },
          "execution_count": 46
        }
      ]
    },
    {
      "cell_type": "code",
      "metadata": {
        "id": "ik3p6qshNfb1",
        "colab_type": "code",
        "colab": {
          "base_uri": "https://localhost:8080/",
          "height": 51
        },
        "outputId": "67d2087b-3ccd-48b6-a1eb-93f2b3ff52f4"
      },
      "source": [
        "gs.cv_results_['rank_test_score']"
      ],
      "execution_count": 47,
      "outputs": [
        {
          "output_type": "execute_result",
          "data": {
            "text/plain": [
              "array([19, 14, 13, 15, 16, 18, 12, 10,  9, 11, 20,  8,  5,  6,  4, 17,  7,\n",
              "        3,  2,  1], dtype=int32)"
            ]
          },
          "metadata": {
            "tags": []
          },
          "execution_count": 47
        }
      ]
    },
    {
      "cell_type": "code",
      "metadata": {
        "id": "McVhyhk_Nr3S",
        "colab_type": "code",
        "colab": {
          "base_uri": "https://localhost:8080/",
          "height": 119
        },
        "outputId": "eda940a7-b25a-4ba4-f2aa-15c612b10a2f"
      },
      "source": [
        "gs.best_estimator_"
      ],
      "execution_count": 48,
      "outputs": [
        {
          "output_type": "execute_result",
          "data": {
            "text/plain": [
              "DecisionTreeRegressor(ccp_alpha=0.0, criterion='mse', max_depth=None,\n",
              "                      max_features=None, max_leaf_nodes=None,\n",
              "                      min_impurity_decrease=0.0, min_impurity_split=None,\n",
              "                      min_samples_leaf=1, min_samples_split=2,\n",
              "                      min_weight_fraction_leaf=0.0, presort='deprecated',\n",
              "                      random_state=123, splitter='best')"
            ]
          },
          "metadata": {
            "tags": []
          },
          "execution_count": 48
        }
      ]
    },
    {
      "cell_type": "code",
      "metadata": {
        "id": "n6Pbiw0KNr-A",
        "colab_type": "code",
        "colab": {}
      },
      "source": [
        "predictions = gs.predict(X_test)"
      ],
      "execution_count": 0,
      "outputs": []
    },
    {
      "cell_type": "code",
      "metadata": {
        "id": "ChIDHcTaNsHK",
        "colab_type": "code",
        "colab": {
          "base_uri": "https://localhost:8080/",
          "height": 34
        },
        "outputId": "d4c3ae37-0d6e-464e-e33f-7ac524cb3339"
      },
      "source": [
        "predictions[:5]"
      ],
      "execution_count": 50,
      "outputs": [
        {
          "output_type": "execute_result",
          "data": {
            "text/plain": [
              "array([22.65, 17.95, 15.  , 17.6 , 21.05])"
            ]
          },
          "metadata": {
            "tags": []
          },
          "execution_count": 50
        }
      ]
    },
    {
      "cell_type": "code",
      "metadata": {
        "id": "HlnMF0y8NsL-",
        "colab_type": "code",
        "colab": {
          "base_uri": "https://localhost:8080/",
          "height": 34
        },
        "outputId": "bd22ba5c-b0c0-49eb-ac5d-f04e808ac0e6"
      },
      "source": [
        "Y_test[:5]"
      ],
      "execution_count": 51,
      "outputs": [
        {
          "output_type": "execute_result",
          "data": {
            "text/plain": [
              "array([22.65, 17.8 , 14.95, 17.6 , 20.85])"
            ]
          },
          "metadata": {
            "tags": []
          },
          "execution_count": 51
        }
      ]
    },
    {
      "cell_type": "code",
      "metadata": {
        "id": "AcooWAUzNsEo",
        "colab_type": "code",
        "colab": {
          "base_uri": "https://localhost:8080/",
          "height": 34
        },
        "outputId": "186ade6f-aa54-4b21-f5dd-d10622ad2e4e"
      },
      "source": [
        "mean_absolute_error(Y_test, predictions)"
      ],
      "execution_count": 52,
      "outputs": [
        {
          "output_type": "execute_result",
          "data": {
            "text/plain": [
              "0.22093023255813973"
            ]
          },
          "metadata": {
            "tags": []
          },
          "execution_count": 52
        }
      ]
    },
    {
      "cell_type": "code",
      "metadata": {
        "id": "UzML6BYINr7m",
        "colab_type": "code",
        "colab": {
          "base_uri": "https://localhost:8080/",
          "height": 34
        },
        "outputId": "1dc2d184-4268-48d2-a325-b53f69f815a7"
      },
      "source": [
        "r2_score(Y_test, predictions)"
      ],
      "execution_count": 53,
      "outputs": [
        {
          "output_type": "execute_result",
          "data": {
            "text/plain": [
              "0.9859268145056378"
            ]
          },
          "metadata": {
            "tags": []
          },
          "execution_count": 53
        }
      ]
    },
    {
      "cell_type": "code",
      "metadata": {
        "id": "jbmXTCscN7BY",
        "colab_type": "code",
        "colab": {}
      },
      "source": [
        "tree1 = DecisionTreeRegressor(max_depth=2,max_features=2)"
      ],
      "execution_count": 0,
      "outputs": []
    },
    {
      "cell_type": "code",
      "metadata": {
        "id": "z6IWJr4VN7NA",
        "colab_type": "code",
        "colab": {
          "base_uri": "https://localhost:8080/",
          "height": 119
        },
        "outputId": "a16701d7-8e1a-4ef5-e51a-954abdefa941"
      },
      "source": [
        "tree1.fit(X_train, Y_train)"
      ],
      "execution_count": 55,
      "outputs": [
        {
          "output_type": "execute_result",
          "data": {
            "text/plain": [
              "DecisionTreeRegressor(ccp_alpha=0.0, criterion='mse', max_depth=2,\n",
              "                      max_features=2, max_leaf_nodes=None,\n",
              "                      min_impurity_decrease=0.0, min_impurity_split=None,\n",
              "                      min_samples_leaf=1, min_samples_split=2,\n",
              "                      min_weight_fraction_leaf=0.0, presort='deprecated',\n",
              "                      random_state=None, splitter='best')"
            ]
          },
          "metadata": {
            "tags": []
          },
          "execution_count": 55
        }
      ]
    },
    {
      "cell_type": "code",
      "metadata": {
        "id": "FIcpf9U0N7JV",
        "colab_type": "code",
        "colab": {}
      },
      "source": [
        "predictions2 = tree1.predict(X_test)"
      ],
      "execution_count": 0,
      "outputs": []
    },
    {
      "cell_type": "code",
      "metadata": {
        "id": "zjvlv6FAN7F6",
        "colab_type": "code",
        "colab": {
          "base_uri": "https://localhost:8080/",
          "height": 34
        },
        "outputId": "95ae2414-06b1-45d8-84e3-1d2f23455709"
      },
      "source": [
        "predictions2[:5]"
      ],
      "execution_count": 57,
      "outputs": [
        {
          "output_type": "execute_result",
          "data": {
            "text/plain": [
              "array([23.09473684, 17.55      , 14.62168142, 17.55      , 21.06666667])"
            ]
          },
          "metadata": {
            "tags": []
          },
          "execution_count": 57
        }
      ]
    },
    {
      "cell_type": "code",
      "metadata": {
        "id": "loKyl9a2OJFe",
        "colab_type": "code",
        "colab": {
          "base_uri": "https://localhost:8080/",
          "height": 34
        },
        "outputId": "dd8c2dc8-7fc2-452a-d8bc-153dbf5b06b8"
      },
      "source": [
        "Y_test[:5]"
      ],
      "execution_count": 58,
      "outputs": [
        {
          "output_type": "execute_result",
          "data": {
            "text/plain": [
              "array([22.65, 17.8 , 14.95, 17.6 , 20.85])"
            ]
          },
          "metadata": {
            "tags": []
          },
          "execution_count": 58
        }
      ]
    },
    {
      "cell_type": "code",
      "metadata": {
        "id": "PXR9QUBzOJM8",
        "colab_type": "code",
        "colab": {
          "base_uri": "https://localhost:8080/",
          "height": 34
        },
        "outputId": "87ec4c85-104b-49a2-b8b3-31427442bcef"
      },
      "source": [
        "mean_absolute_error(Y_test, predictions2)"
      ],
      "execution_count": 59,
      "outputs": [
        {
          "output_type": "execute_result",
          "data": {
            "text/plain": [
              "0.6636447828771349"
            ]
          },
          "metadata": {
            "tags": []
          },
          "execution_count": 59
        }
      ]
    },
    {
      "cell_type": "code",
      "metadata": {
        "id": "gaODllSoOJJU",
        "colab_type": "code",
        "colab": {
          "base_uri": "https://localhost:8080/",
          "height": 34
        },
        "outputId": "18a51cd6-92de-4c74-a2bb-e619739f875b"
      },
      "source": [
        "r2_score(Y_test, predictions2)"
      ],
      "execution_count": 60,
      "outputs": [
        {
          "output_type": "execute_result",
          "data": {
            "text/plain": [
              "0.9098578188918411"
            ]
          },
          "metadata": {
            "tags": []
          },
          "execution_count": 60
        }
      ]
    },
    {
      "cell_type": "code",
      "metadata": {
        "id": "vXA3-rnROJC3",
        "colab_type": "code",
        "colab": {}
      },
      "source": [
        "from sklearn.tree import export_graphviz"
      ],
      "execution_count": 0,
      "outputs": []
    },
    {
      "cell_type": "code",
      "metadata": {
        "id": "o97i0_plOS51",
        "colab_type": "code",
        "colab": {}
      },
      "source": [
        "dot_data = export_graphviz(tree1, filled=True, feature_names=X_train.columns, out_file=None)"
      ],
      "execution_count": 0,
      "outputs": []
    },
    {
      "cell_type": "code",
      "metadata": {
        "id": "oCI2GaPuOTCJ",
        "colab_type": "code",
        "colab": {}
      },
      "source": [
        "import graphviz"
      ],
      "execution_count": 0,
      "outputs": []
    },
    {
      "cell_type": "code",
      "metadata": {
        "id": "29UdyJWLOTNF",
        "colab_type": "code",
        "colab": {
          "base_uri": "https://localhost:8080/",
          "height": 380
        },
        "outputId": "363adbaf-3f71-470d-9e2c-10a72915f13a"
      },
      "source": [
        "graphviz.Source(dot_data)"
      ],
      "execution_count": 64,
      "outputs": [
        {
          "output_type": "execute_result",
          "data": {
            "text/plain": [
              "<graphviz.files.Source at 0x7fb11599d7b8>"
            ],
            "image/svg+xml": "<?xml version=\"1.0\" encoding=\"UTF-8\" standalone=\"no\"?>\n<!DOCTYPE svg PUBLIC \"-//W3C//DTD SVG 1.1//EN\"\n \"http://www.w3.org/Graphics/SVG/1.1/DTD/svg11.dtd\">\n<!-- Generated by graphviz version 2.40.1 (20161225.0304)\n -->\n<!-- Title: Tree Pages: 1 -->\n<svg width=\"481pt\" height=\"269pt\"\n viewBox=\"0.00 0.00 481.00 269.00\" xmlns=\"http://www.w3.org/2000/svg\" xmlns:xlink=\"http://www.w3.org/1999/xlink\">\n<g id=\"graph0\" class=\"graph\" transform=\"scale(1 1) rotate(0) translate(4 265)\">\n<title>Tree</title>\n<polygon fill=\"#ffffff\" stroke=\"transparent\" points=\"-4,4 -4,-265 477,-265 477,4 -4,4\"/>\n<!-- 0 -->\n<g id=\"node1\" class=\"node\">\n<title>0</title>\n<polygon fill=\"#fae6d8\" stroke=\"#000000\" points=\"291.5,-261 176.5,-261 176.5,-193 291.5,-193 291.5,-261\"/>\n<text text-anchor=\"middle\" x=\"234\" y=\"-245.8\" font-family=\"Times,serif\" font-size=\"14.00\" fill=\"#000000\">LOW &lt;= 19.325</text>\n<text text-anchor=\"middle\" x=\"234\" y=\"-230.8\" font-family=\"Times,serif\" font-size=\"14.00\" fill=\"#000000\">mse = 8.326</text>\n<text text-anchor=\"middle\" x=\"234\" y=\"-215.8\" font-family=\"Times,serif\" font-size=\"14.00\" fill=\"#000000\">samples = 172</text>\n<text text-anchor=\"middle\" x=\"234\" y=\"-200.8\" font-family=\"Times,serif\" font-size=\"14.00\" fill=\"#000000\">value = 16.3</text>\n</g>\n<!-- 1 -->\n<g id=\"node2\" class=\"node\">\n<title>1</title>\n<polygon fill=\"#fdf4ee\" stroke=\"#000000\" points=\"225,-157 107,-157 107,-89 225,-89 225,-157\"/>\n<text text-anchor=\"middle\" x=\"166\" y=\"-141.8\" font-family=\"Times,serif\" font-size=\"14.00\" fill=\"#000000\">HIGH &lt;= 16.475</text>\n<text text-anchor=\"middle\" x=\"166\" y=\"-126.8\" font-family=\"Times,serif\" font-size=\"14.00\" fill=\"#000000\">mse = 2.299</text>\n<text text-anchor=\"middle\" x=\"166\" y=\"-111.8\" font-family=\"Times,serif\" font-size=\"14.00\" fill=\"#000000\">samples = 150</text>\n<text text-anchor=\"middle\" x=\"166\" y=\"-96.8\" font-family=\"Times,serif\" font-size=\"14.00\" fill=\"#000000\">value = 15.344</text>\n</g>\n<!-- 0&#45;&gt;1 -->\n<g id=\"edge1\" class=\"edge\">\n<title>0&#45;&gt;1</title>\n<path fill=\"none\" stroke=\"#000000\" d=\"M211.7343,-192.9465C206.0398,-184.2373 199.8448,-174.7626 193.9062,-165.6801\"/>\n<polygon fill=\"#000000\" stroke=\"#000000\" points=\"196.7177,-163.5843 188.3158,-157.13 190.8589,-167.4151 196.7177,-163.5843\"/>\n<text text-anchor=\"middle\" x=\"183.1942\" y=\"-177.8998\" font-family=\"Times,serif\" font-size=\"14.00\" fill=\"#000000\">True</text>\n</g>\n<!-- 4 -->\n<g id=\"node5\" class=\"node\">\n<title>4</title>\n<polygon fill=\"#e6853f\" stroke=\"#000000\" points=\"363,-157 243,-157 243,-89 363,-89 363,-157\"/>\n<text text-anchor=\"middle\" x=\"303\" y=\"-141.8\" font-family=\"Times,serif\" font-size=\"14.00\" fill=\"#000000\">OPEN &lt;= 22.175</text>\n<text text-anchor=\"middle\" x=\"303\" y=\"-126.8\" font-family=\"Times,serif\" font-size=\"14.00\" fill=\"#000000\">mse = 0.704</text>\n<text text-anchor=\"middle\" x=\"303\" y=\"-111.8\" font-family=\"Times,serif\" font-size=\"14.00\" fill=\"#000000\">samples = 22</text>\n<text text-anchor=\"middle\" x=\"303\" y=\"-96.8\" font-family=\"Times,serif\" font-size=\"14.00\" fill=\"#000000\">value = 22.818</text>\n</g>\n<!-- 0&#45;&gt;4 -->\n<g id=\"edge4\" class=\"edge\">\n<title>0&#45;&gt;4</title>\n<path fill=\"none\" stroke=\"#000000\" d=\"M256.5932,-192.9465C262.3714,-184.2373 268.6575,-174.7626 274.6834,-165.6801\"/>\n<polygon fill=\"#000000\" stroke=\"#000000\" points=\"277.744,-167.3978 280.3561,-157.13 271.911,-163.5278 277.744,-167.3978\"/>\n<text text-anchor=\"middle\" x=\"285.3134\" y=\"-177.9336\" font-family=\"Times,serif\" font-size=\"14.00\" fill=\"#000000\">False</text>\n</g>\n<!-- 2 -->\n<g id=\"node3\" class=\"node\">\n<title>2</title>\n<polygon fill=\"#ffffff\" stroke=\"#000000\" points=\"104,-53 0,-53 0,0 104,0 104,-53\"/>\n<text text-anchor=\"middle\" x=\"52\" y=\"-37.8\" font-family=\"Times,serif\" font-size=\"14.00\" fill=\"#000000\">mse = 0.736</text>\n<text text-anchor=\"middle\" x=\"52\" y=\"-22.8\" font-family=\"Times,serif\" font-size=\"14.00\" fill=\"#000000\">samples = 113</text>\n<text text-anchor=\"middle\" x=\"52\" y=\"-7.8\" font-family=\"Times,serif\" font-size=\"14.00\" fill=\"#000000\">value = 14.622</text>\n</g>\n<!-- 1&#45;&gt;2 -->\n<g id=\"edge2\" class=\"edge\">\n<title>1&#45;&gt;2</title>\n<path fill=\"none\" stroke=\"#000000\" d=\"M125.8079,-88.9777C114.6658,-79.546 102.5827,-69.3178 91.4815,-59.9208\"/>\n<polygon fill=\"#000000\" stroke=\"#000000\" points=\"93.4932,-57.038 83.5992,-53.2485 88.9705,-62.3809 93.4932,-57.038\"/>\n</g>\n<!-- 3 -->\n<g id=\"node4\" class=\"node\">\n<title>3</title>\n<polygon fill=\"#f6d3bb\" stroke=\"#000000\" points=\"219.5,-53 122.5,-53 122.5,0 219.5,0 219.5,-53\"/>\n<text text-anchor=\"middle\" x=\"171\" y=\"-37.8\" font-family=\"Times,serif\" font-size=\"14.00\" fill=\"#000000\">mse = 0.612</text>\n<text text-anchor=\"middle\" x=\"171\" y=\"-22.8\" font-family=\"Times,serif\" font-size=\"14.00\" fill=\"#000000\">samples = 37</text>\n<text text-anchor=\"middle\" x=\"171\" y=\"-7.8\" font-family=\"Times,serif\" font-size=\"14.00\" fill=\"#000000\">value = 17.55</text>\n</g>\n<!-- 1&#45;&gt;3 -->\n<g id=\"edge3\" class=\"edge\">\n<title>1&#45;&gt;3</title>\n<path fill=\"none\" stroke=\"#000000\" d=\"M167.7628,-88.9777C168.1946,-80.6449 168.6585,-71.6903 169.0966,-63.2364\"/>\n<polygon fill=\"#000000\" stroke=\"#000000\" points=\"172.5918,-63.4162 169.6141,-53.2485 165.6012,-63.0539 172.5918,-63.4162\"/>\n</g>\n<!-- 5 -->\n<g id=\"node6\" class=\"node\">\n<title>5</title>\n<polygon fill=\"#eb9f68\" stroke=\"#000000\" points=\"351,-53 247,-53 247,0 351,0 351,-53\"/>\n<text text-anchor=\"middle\" x=\"299\" y=\"-37.8\" font-family=\"Times,serif\" font-size=\"14.00\" fill=\"#000000\">mse = 0.001</text>\n<text text-anchor=\"middle\" x=\"299\" y=\"-22.8\" font-family=\"Times,serif\" font-size=\"14.00\" fill=\"#000000\">samples = 3</text>\n<text text-anchor=\"middle\" x=\"299\" y=\"-7.8\" font-family=\"Times,serif\" font-size=\"14.00\" fill=\"#000000\">value = 21.067</text>\n</g>\n<!-- 4&#45;&gt;5 -->\n<g id=\"edge5\" class=\"edge\">\n<title>4&#45;&gt;5</title>\n<path fill=\"none\" stroke=\"#000000\" d=\"M301.5897,-88.9777C301.2481,-80.7364 300.8813,-71.887 300.5343,-63.5153\"/>\n<polygon fill=\"#000000\" stroke=\"#000000\" points=\"304.02,-63.0949 300.1087,-53.2485 297.026,-63.3849 304.02,-63.0949\"/>\n</g>\n<!-- 6 -->\n<g id=\"node7\" class=\"node\">\n<title>6</title>\n<polygon fill=\"#e58139\" stroke=\"#000000\" points=\"473,-53 369,-53 369,0 473,0 473,-53\"/>\n<text text-anchor=\"middle\" x=\"421\" y=\"-37.8\" font-family=\"Times,serif\" font-size=\"14.00\" fill=\"#000000\">mse = 0.254</text>\n<text text-anchor=\"middle\" x=\"421\" y=\"-22.8\" font-family=\"Times,serif\" font-size=\"14.00\" fill=\"#000000\">samples = 19</text>\n<text text-anchor=\"middle\" x=\"421\" y=\"-7.8\" font-family=\"Times,serif\" font-size=\"14.00\" fill=\"#000000\">value = 23.095</text>\n</g>\n<!-- 4&#45;&gt;6 -->\n<g id=\"edge6\" class=\"edge\">\n<title>4&#45;&gt;6</title>\n<path fill=\"none\" stroke=\"#000000\" d=\"M344.6024,-88.9777C356.2474,-79.4545 368.8854,-69.1191 380.4675,-59.6473\"/>\n<polygon fill=\"#000000\" stroke=\"#000000\" points=\"382.7667,-62.2885 388.292,-53.2485 378.3352,-56.8697 382.7667,-62.2885\"/>\n</g>\n</g>\n</svg>\n"
          },
          "metadata": {
            "tags": []
          },
          "execution_count": 64
        }
      ]
    },
    {
      "cell_type": "code",
      "metadata": {
        "id": "fDGfMsuUOTLI",
        "colab_type": "code",
        "colab": {
          "base_uri": "https://localhost:8080/",
          "height": 34
        },
        "outputId": "1b509c0d-c989-4723-de0d-23d8d1237c4e"
      },
      "source": [
        "np.unique(predictions2)"
      ],
      "execution_count": 65,
      "outputs": [
        {
          "output_type": "execute_result",
          "data": {
            "text/plain": [
              "array([14.62168142, 17.55      , 21.06666667, 23.09473684])"
            ]
          },
          "metadata": {
            "tags": []
          },
          "execution_count": 65
        }
      ]
    },
    {
      "cell_type": "code",
      "metadata": {
        "id": "G_XzDXKzOTI6",
        "colab_type": "code",
        "colab": {}
      },
      "source": [
        ""
      ],
      "execution_count": 0,
      "outputs": []
    },
    {
      "cell_type": "code",
      "metadata": {
        "id": "5mp-nCaqOTHA",
        "colab_type": "code",
        "colab": {}
      },
      "source": [
        ""
      ],
      "execution_count": 0,
      "outputs": []
    },
    {
      "cell_type": "code",
      "metadata": {
        "id": "TbHeCazrOTAS",
        "colab_type": "code",
        "colab": {}
      },
      "source": [
        ""
      ],
      "execution_count": 0,
      "outputs": []
    },
    {
      "cell_type": "code",
      "metadata": {
        "id": "klH-1jSIOS9x",
        "colab_type": "code",
        "colab": {}
      },
      "source": [
        ""
      ],
      "execution_count": 0,
      "outputs": []
    },
    {
      "cell_type": "markdown",
      "metadata": {
        "id": "-pEZwxUV87ZQ",
        "colab_type": "text"
      },
      "source": [
        "support vector regression"
      ]
    },
    {
      "cell_type": "code",
      "metadata": {
        "id": "G-7hl8pB11sg",
        "colab_type": "code",
        "outputId": "b9fe7e62-1cee-4290-e959-a3370ad5c9b1",
        "colab": {
          "base_uri": "https://localhost:8080/",
          "height": 204
        }
      },
      "source": [
        "IOB.head()"
      ],
      "execution_count": 66,
      "outputs": [
        {
          "output_type": "execute_result",
          "data": {
            "text/html": [
              "<div>\n",
              "<style scoped>\n",
              "    .dataframe tbody tr th:only-of-type {\n",
              "        vertical-align: middle;\n",
              "    }\n",
              "\n",
              "    .dataframe tbody tr th {\n",
              "        vertical-align: top;\n",
              "    }\n",
              "\n",
              "    .dataframe thead th {\n",
              "        text-align: right;\n",
              "    }\n",
              "</style>\n",
              "<table border=\"1\" class=\"dataframe\">\n",
              "  <thead>\n",
              "    <tr style=\"text-align: right;\">\n",
              "      <th></th>\n",
              "      <th>SYMBOL</th>\n",
              "      <th>sector</th>\n",
              "      <th>OPEN</th>\n",
              "      <th>HIGH</th>\n",
              "      <th>LOW</th>\n",
              "      <th>CLOSE</th>\n",
              "      <th>TOTTRDQTY</th>\n",
              "      <th>TOTTRDVAL</th>\n",
              "      <th>TIMESTAMP</th>\n",
              "      <th>TOTALTRADES</th>\n",
              "    </tr>\n",
              "  </thead>\n",
              "  <tbody>\n",
              "    <tr>\n",
              "      <th>134744</th>\n",
              "      <td>IOB</td>\n",
              "      <td>Banks - PSU</td>\n",
              "      <td>22.20</td>\n",
              "      <td>22.60</td>\n",
              "      <td>22.15</td>\n",
              "      <td>22.45</td>\n",
              "      <td>970208</td>\n",
              "      <td>2.178484e+07</td>\n",
              "      <td>1/1/2018 0:00</td>\n",
              "      <td>2046</td>\n",
              "    </tr>\n",
              "    <tr>\n",
              "      <th>134745</th>\n",
              "      <td>IOB</td>\n",
              "      <td>Banks - PSU</td>\n",
              "      <td>22.35</td>\n",
              "      <td>22.60</td>\n",
              "      <td>22.30</td>\n",
              "      <td>22.35</td>\n",
              "      <td>717179</td>\n",
              "      <td>1.608124e+07</td>\n",
              "      <td>1/2/2018 0:00</td>\n",
              "      <td>1954</td>\n",
              "    </tr>\n",
              "    <tr>\n",
              "      <th>134746</th>\n",
              "      <td>IOB</td>\n",
              "      <td>Banks - PSU</td>\n",
              "      <td>22.40</td>\n",
              "      <td>22.65</td>\n",
              "      <td>22.25</td>\n",
              "      <td>22.50</td>\n",
              "      <td>1002936</td>\n",
              "      <td>2.253496e+07</td>\n",
              "      <td>1/3/2018 0:00</td>\n",
              "      <td>1322</td>\n",
              "    </tr>\n",
              "    <tr>\n",
              "      <th>134747</th>\n",
              "      <td>IOB</td>\n",
              "      <td>Banks - PSU</td>\n",
              "      <td>22.70</td>\n",
              "      <td>23.45</td>\n",
              "      <td>22.65</td>\n",
              "      <td>23.05</td>\n",
              "      <td>2846170</td>\n",
              "      <td>6.572533e+07</td>\n",
              "      <td>1/4/2018 0:00</td>\n",
              "      <td>4526</td>\n",
              "    </tr>\n",
              "    <tr>\n",
              "      <th>134748</th>\n",
              "      <td>IOB</td>\n",
              "      <td>Banks - PSU</td>\n",
              "      <td>24.50</td>\n",
              "      <td>25.40</td>\n",
              "      <td>23.90</td>\n",
              "      <td>24.15</td>\n",
              "      <td>5906944</td>\n",
              "      <td>1.436609e+08</td>\n",
              "      <td>1/5/2018 0:00</td>\n",
              "      <td>9965</td>\n",
              "    </tr>\n",
              "  </tbody>\n",
              "</table>\n",
              "</div>"
            ],
            "text/plain": [
              "       SYMBOL       sector   OPEN  ...     TOTTRDVAL      TIMESTAMP  TOTALTRADES\n",
              "134744    IOB  Banks - PSU  22.20  ...  2.178484e+07  1/1/2018 0:00         2046\n",
              "134745    IOB  Banks - PSU  22.35  ...  1.608124e+07  1/2/2018 0:00         1954\n",
              "134746    IOB  Banks - PSU  22.40  ...  2.253496e+07  1/3/2018 0:00         1322\n",
              "134747    IOB  Banks - PSU  22.70  ...  6.572533e+07  1/4/2018 0:00         4526\n",
              "134748    IOB  Banks - PSU  24.50  ...  1.436609e+08  1/5/2018 0:00         9965\n",
              "\n",
              "[5 rows x 10 columns]"
            ]
          },
          "metadata": {
            "tags": []
          },
          "execution_count": 66
        }
      ]
    },
    {
      "cell_type": "code",
      "metadata": {
        "id": "Ap2XR9zh88OQ",
        "colab_type": "code",
        "colab": {}
      },
      "source": [
        "df2 = IOB.drop(['SYMBOL','sector','TIMESTAMP','OPEN','HIGH','LOW','TOTTRDQTY','TOTTRDVAL','TOTALTRADES'],1)"
      ],
      "execution_count": 0,
      "outputs": []
    },
    {
      "cell_type": "code",
      "metadata": {
        "id": "tCWvVCa_G5VS",
        "colab_type": "code",
        "colab": {
          "base_uri": "https://localhost:8080/",
          "height": 204
        },
        "outputId": "765ebc81-49e7-45de-ffb9-35ff62868690"
      },
      "source": [
        "df2.head()"
      ],
      "execution_count": 68,
      "outputs": [
        {
          "output_type": "execute_result",
          "data": {
            "text/html": [
              "<div>\n",
              "<style scoped>\n",
              "    .dataframe tbody tr th:only-of-type {\n",
              "        vertical-align: middle;\n",
              "    }\n",
              "\n",
              "    .dataframe tbody tr th {\n",
              "        vertical-align: top;\n",
              "    }\n",
              "\n",
              "    .dataframe thead th {\n",
              "        text-align: right;\n",
              "    }\n",
              "</style>\n",
              "<table border=\"1\" class=\"dataframe\">\n",
              "  <thead>\n",
              "    <tr style=\"text-align: right;\">\n",
              "      <th></th>\n",
              "      <th>CLOSE</th>\n",
              "    </tr>\n",
              "  </thead>\n",
              "  <tbody>\n",
              "    <tr>\n",
              "      <th>134744</th>\n",
              "      <td>22.45</td>\n",
              "    </tr>\n",
              "    <tr>\n",
              "      <th>134745</th>\n",
              "      <td>22.35</td>\n",
              "    </tr>\n",
              "    <tr>\n",
              "      <th>134746</th>\n",
              "      <td>22.50</td>\n",
              "    </tr>\n",
              "    <tr>\n",
              "      <th>134747</th>\n",
              "      <td>23.05</td>\n",
              "    </tr>\n",
              "    <tr>\n",
              "      <th>134748</th>\n",
              "      <td>24.15</td>\n",
              "    </tr>\n",
              "  </tbody>\n",
              "</table>\n",
              "</div>"
            ],
            "text/plain": [
              "        CLOSE\n",
              "134744  22.45\n",
              "134745  22.35\n",
              "134746  22.50\n",
              "134747  23.05\n",
              "134748  24.15"
            ]
          },
          "metadata": {
            "tags": []
          },
          "execution_count": 68
        }
      ]
    },
    {
      "cell_type": "code",
      "metadata": {
        "id": "s-luNy2RG5cl",
        "colab_type": "code",
        "colab": {}
      },
      "source": [
        "prediction_days = 30\n",
        "df2['close Prediction'] = df2[['CLOSE']].shift(-prediction_days)"
      ],
      "execution_count": 0,
      "outputs": []
    },
    {
      "cell_type": "code",
      "metadata": {
        "id": "5nlXlEmxG5gb",
        "colab_type": "code",
        "colab": {
          "base_uri": "https://localhost:8080/",
          "height": 204
        },
        "outputId": "9ef20daa-8b4b-4e50-c111-2dbf2fde417e"
      },
      "source": [
        "df2.head()"
      ],
      "execution_count": 70,
      "outputs": [
        {
          "output_type": "execute_result",
          "data": {
            "text/html": [
              "<div>\n",
              "<style scoped>\n",
              "    .dataframe tbody tr th:only-of-type {\n",
              "        vertical-align: middle;\n",
              "    }\n",
              "\n",
              "    .dataframe tbody tr th {\n",
              "        vertical-align: top;\n",
              "    }\n",
              "\n",
              "    .dataframe thead th {\n",
              "        text-align: right;\n",
              "    }\n",
              "</style>\n",
              "<table border=\"1\" class=\"dataframe\">\n",
              "  <thead>\n",
              "    <tr style=\"text-align: right;\">\n",
              "      <th></th>\n",
              "      <th>CLOSE</th>\n",
              "      <th>close Prediction</th>\n",
              "    </tr>\n",
              "  </thead>\n",
              "  <tbody>\n",
              "    <tr>\n",
              "      <th>134744</th>\n",
              "      <td>22.45</td>\n",
              "      <td>18.30</td>\n",
              "    </tr>\n",
              "    <tr>\n",
              "      <th>134745</th>\n",
              "      <td>22.35</td>\n",
              "      <td>18.25</td>\n",
              "    </tr>\n",
              "    <tr>\n",
              "      <th>134746</th>\n",
              "      <td>22.50</td>\n",
              "      <td>18.20</td>\n",
              "    </tr>\n",
              "    <tr>\n",
              "      <th>134747</th>\n",
              "      <td>23.05</td>\n",
              "      <td>18.15</td>\n",
              "    </tr>\n",
              "    <tr>\n",
              "      <th>134748</th>\n",
              "      <td>24.15</td>\n",
              "      <td>17.65</td>\n",
              "    </tr>\n",
              "  </tbody>\n",
              "</table>\n",
              "</div>"
            ],
            "text/plain": [
              "        CLOSE  close Prediction\n",
              "134744  22.45             18.30\n",
              "134745  22.35             18.25\n",
              "134746  22.50             18.20\n",
              "134747  23.05             18.15\n",
              "134748  24.15             17.65"
            ]
          },
          "metadata": {
            "tags": []
          },
          "execution_count": 70
        }
      ]
    },
    {
      "cell_type": "code",
      "metadata": {
        "id": "lqajAaIiG5Zz",
        "colab_type": "code",
        "colab": {
          "base_uri": "https://localhost:8080/",
          "height": 1000
        },
        "outputId": "02f7aac2-445b-476e-d494-3aef3bd77046"
      },
      "source": [
        "x = np.array(df2.drop(['close Prediction'],1))\n",
        "x= x[:len(df2)-prediction_days]\n",
        "print(x)"
      ],
      "execution_count": 72,
      "outputs": [
        {
          "output_type": "stream",
          "text": [
            "[[22.45]\n",
            " [22.35]\n",
            " [22.5 ]\n",
            " [23.05]\n",
            " [24.15]\n",
            " [23.95]\n",
            " [23.95]\n",
            " [23.55]\n",
            " [23.35]\n",
            " [23.5 ]\n",
            " [23.45]\n",
            " [22.95]\n",
            " [23.15]\n",
            " [23.1 ]\n",
            " [23.15]\n",
            " [23.  ]\n",
            " [23.2 ]\n",
            " [23.3 ]\n",
            " [23.3 ]\n",
            " [22.8 ]\n",
            " [22.65]\n",
            " [22.65]\n",
            " [22.25]\n",
            " [21.1 ]\n",
            " [21.05]\n",
            " [20.45]\n",
            " [20.85]\n",
            " [21.05]\n",
            " [20.9 ]\n",
            " [18.15]\n",
            " [18.3 ]\n",
            " [18.25]\n",
            " [18.2 ]\n",
            " [18.15]\n",
            " [17.65]\n",
            " [17.5 ]\n",
            " [17.95]\n",
            " [17.45]\n",
            " [17.5 ]\n",
            " [17.7 ]\n",
            " [17.6 ]\n",
            " [17.95]\n",
            " [17.95]\n",
            " [18.  ]\n",
            " [18.2 ]\n",
            " [17.95]\n",
            " [17.95]\n",
            " [18.1 ]\n",
            " [18.1 ]\n",
            " [18.1 ]\n",
            " [18.15]\n",
            " [18.1 ]\n",
            " [17.8 ]\n",
            " [17.6 ]\n",
            " [17.45]\n",
            " [17.8 ]\n",
            " [17.8 ]\n",
            " [18.3 ]\n",
            " [18.35]\n",
            " [18.15]\n",
            " [18.1 ]\n",
            " [18.05]\n",
            " [18.05]\n",
            " [17.85]\n",
            " [17.55]\n",
            " [16.85]\n",
            " [16.75]\n",
            " [16.6 ]\n",
            " [16.25]\n",
            " [16.  ]\n",
            " [16.  ]\n",
            " [15.85]\n",
            " [15.9 ]\n",
            " [15.8 ]\n",
            " [16.  ]\n",
            " [16.55]\n",
            " [16.65]\n",
            " [16.25]\n",
            " [16.2 ]\n",
            " [16.1 ]\n",
            " [15.55]\n",
            " [15.35]\n",
            " [15.65]\n",
            " [15.95]\n",
            " [16.25]\n",
            " [16.  ]\n",
            " [15.95]\n",
            " [15.75]\n",
            " [15.65]\n",
            " [15.15]\n",
            " [15.1 ]\n",
            " [15.1 ]\n",
            " [14.9 ]\n",
            " [14.8 ]\n",
            " [15.05]\n",
            " [14.85]\n",
            " [14.95]\n",
            " [14.2 ]\n",
            " [13.9 ]\n",
            " [14.05]\n",
            " [13.95]\n",
            " [13.95]\n",
            " [13.7 ]\n",
            " [14.  ]\n",
            " [13.95]\n",
            " [13.95]\n",
            " [13.85]\n",
            " [13.65]\n",
            " [13.2 ]\n",
            " [13.45]\n",
            " [13.9 ]\n",
            " [13.9 ]\n",
            " [13.75]\n",
            " [13.7 ]\n",
            " [13.8 ]\n",
            " [13.95]\n",
            " [14.5 ]\n",
            " [14.95]\n",
            " [14.9 ]\n",
            " [15.05]\n",
            " [14.85]\n",
            " [15.  ]\n",
            " [15.85]\n",
            " [15.4 ]\n",
            " [15.15]\n",
            " [16.1 ]\n",
            " [15.9 ]\n",
            " [15.7 ]\n",
            " [15.6 ]\n",
            " [15.3 ]\n",
            " [15.35]\n",
            " [15.5 ]\n",
            " [15.4 ]\n",
            " [15.25]\n",
            " [14.9 ]\n",
            " [14.95]\n",
            " [14.9 ]\n",
            " [14.9 ]\n",
            " [15.55]\n",
            " [15.6 ]\n",
            " [15.45]\n",
            " [15.05]\n",
            " [14.85]\n",
            " [14.9 ]\n",
            " [15.  ]\n",
            " [14.85]\n",
            " [14.55]\n",
            " [14.3 ]\n",
            " [14.65]\n",
            " [14.6 ]\n",
            " [15.4 ]\n",
            " [15.  ]\n",
            " [14.15]\n",
            " [13.65]\n",
            " [13.6 ]\n",
            " [13.95]\n",
            " [13.85]\n",
            " [13.1 ]\n",
            " [13.3 ]\n",
            " [13.75]\n",
            " [13.45]\n",
            " [12.45]\n",
            " [11.55]\n",
            " [11.85]\n",
            " [12.7 ]\n",
            " [12.35]\n",
            " [12.6 ]\n",
            " [13.1 ]\n",
            " [13.2 ]\n",
            " [13.05]\n",
            " [12.8 ]\n",
            " [12.9 ]\n",
            " [13.1 ]\n",
            " [13.2 ]\n",
            " [13.05]\n",
            " [13.95]\n",
            " [14.35]\n",
            " [14.85]\n",
            " [15.  ]\n",
            " [14.8 ]\n",
            " [14.6 ]\n",
            " [14.8 ]\n",
            " [14.75]\n",
            " [14.95]\n",
            " [14.6 ]]\n"
          ],
          "name": "stdout"
        }
      ]
    },
    {
      "cell_type": "code",
      "metadata": {
        "id": "cV4rCzmHJYqa",
        "colab_type": "code",
        "colab": {
          "base_uri": "https://localhost:8080/",
          "height": 289
        },
        "outputId": "dd51cfc3-9e38-43ab-d4f8-a19bd39f7671"
      },
      "source": [
        "y = np.array(df2['close Prediction'])\n",
        "y = y[:-prediction_days]\n",
        "print(y)"
      ],
      "execution_count": 73,
      "outputs": [
        {
          "output_type": "stream",
          "text": [
            "[18.3  18.25 18.2  18.15 17.65 17.5  17.95 17.45 17.5  17.7  17.6  17.95\n",
            " 17.95 18.   18.2  17.95 17.95 18.1  18.1  18.1  18.15 18.1  17.8  17.6\n",
            " 17.45 17.8  17.8  18.3  18.35 18.15 18.1  18.05 18.05 17.85 17.55 16.85\n",
            " 16.75 16.6  16.25 16.   16.   15.85 15.9  15.8  16.   16.55 16.65 16.25\n",
            " 16.2  16.1  15.55 15.35 15.65 15.95 16.25 16.   15.95 15.75 15.65 15.15\n",
            " 15.1  15.1  14.9  14.8  15.05 14.85 14.95 14.2  13.9  14.05 13.95 13.95\n",
            " 13.7  14.   13.95 13.95 13.85 13.65 13.2  13.45 13.9  13.9  13.75 13.7\n",
            " 13.8  13.95 14.5  14.95 14.9  15.05 14.85 15.   15.85 15.4  15.15 16.1\n",
            " 15.9  15.7  15.6  15.3  15.35 15.5  15.4  15.25 14.9  14.95 14.9  14.9\n",
            " 15.55 15.6  15.45 15.05 14.85 14.9  15.   14.85 14.55 14.3  14.65 14.6\n",
            " 15.4  15.   14.15 13.65 13.6  13.95 13.85 13.1  13.3  13.75 13.45 12.45\n",
            " 11.55 11.85 12.7  12.35 12.6  13.1  13.2  13.05 12.8  12.9  13.1  13.2\n",
            " 13.05 13.95 14.35 14.85 15.   14.8  14.6  14.8  14.75 14.95 14.6  14.55\n",
            " 14.6  14.85 15.   15.15 14.6  14.7  14.6  14.5  14.55 14.6  14.45 14.3\n",
            " 14.4  14.3  14.3  13.9  14.15 14.15 14.1  14.75 14.7  14.75 14.8  14.95\n",
            " 15.   14.75 14.75 14.8  14.95]\n"
          ],
          "name": "stdout"
        }
      ]
    },
    {
      "cell_type": "code",
      "metadata": {
        "id": "-NtxtW4FJfFo",
        "colab_type": "code",
        "colab": {}
      },
      "source": [
        "x_train, x_test, y_train, y_test = train_test_split(x, y, test_size=0.2)"
      ],
      "execution_count": 0,
      "outputs": []
    },
    {
      "cell_type": "code",
      "metadata": {
        "id": "7nnd2Xi2JvXJ",
        "colab_type": "code",
        "colab": {
          "base_uri": "https://localhost:8080/",
          "height": 527
        },
        "outputId": "ad796e4b-a92b-4956-a7be-7710df76bcd7"
      },
      "source": [
        "prediction_days_array = np.array(df2.drop(['close Prediction'],1))[-prediction_days:]\n",
        "print(prediction_days_array)"
      ],
      "execution_count": 75,
      "outputs": [
        {
          "output_type": "stream",
          "text": [
            "[[14.55]\n",
            " [14.6 ]\n",
            " [14.85]\n",
            " [15.  ]\n",
            " [15.15]\n",
            " [14.6 ]\n",
            " [14.7 ]\n",
            " [14.6 ]\n",
            " [14.5 ]\n",
            " [14.55]\n",
            " [14.6 ]\n",
            " [14.45]\n",
            " [14.3 ]\n",
            " [14.4 ]\n",
            " [14.3 ]\n",
            " [14.3 ]\n",
            " [13.9 ]\n",
            " [14.15]\n",
            " [14.15]\n",
            " [14.1 ]\n",
            " [14.75]\n",
            " [14.7 ]\n",
            " [14.75]\n",
            " [14.8 ]\n",
            " [14.95]\n",
            " [15.  ]\n",
            " [14.75]\n",
            " [14.75]\n",
            " [14.8 ]\n",
            " [14.95]]\n"
          ],
          "name": "stdout"
        }
      ]
    },
    {
      "cell_type": "code",
      "metadata": {
        "id": "Flb7hnfzJva7",
        "colab_type": "code",
        "colab": {
          "base_uri": "https://localhost:8080/",
          "height": 51
        },
        "outputId": "2527690a-845b-4204-a94b-ec218eec9568"
      },
      "source": [
        "from sklearn.svm import SVR\n",
        "svr_rbf = SVR(kernel='rbf', C=1e3, gamma=0.00001)\n",
        "svr_rbf.fit(x_train, y_train)"
      ],
      "execution_count": 76,
      "outputs": [
        {
          "output_type": "execute_result",
          "data": {
            "text/plain": [
              "SVR(C=1000.0, cache_size=200, coef0=0.0, degree=3, epsilon=0.1, gamma=1e-05,\n",
              "    kernel='rbf', max_iter=-1, shrinking=True, tol=0.001, verbose=False)"
            ]
          },
          "metadata": {
            "tags": []
          },
          "execution_count": 76
        }
      ]
    },
    {
      "cell_type": "code",
      "metadata": {
        "id": "rrTSe4MHJver",
        "colab_type": "code",
        "colab": {
          "base_uri": "https://localhost:8080/",
          "height": 34
        },
        "outputId": "7052241b-e920-44f2-b995-7ca46f8dfcb7"
      },
      "source": [
        "svr_rbf_confidence = svr_rbf.score(x_test, y_test)\n",
        "print(\"svr_rbf accuracy: \", svr_rbf_confidence)"
      ],
      "execution_count": 78,
      "outputs": [
        {
          "output_type": "stream",
          "text": [
            "svr_rbf accuracy:  0.5306693658245315\n"
          ],
          "name": "stdout"
        }
      ]
    },
    {
      "cell_type": "code",
      "metadata": {
        "id": "qN0ZfrO6J-Bb",
        "colab_type": "code",
        "colab": {
          "base_uri": "https://localhost:8080/",
          "height": 136
        },
        "outputId": "3c0f6b80-8ea0-48ab-da1d-2b3c317f9493"
      },
      "source": [
        "svm_prediction = svr_rbf.predict(x_test)\n",
        "print(svm_prediction)"
      ],
      "execution_count": 79,
      "outputs": [
        {
          "output_type": "stream",
          "text": [
            "[17.79640458 15.11095778 17.90403653 14.86101606 15.12881633 14.53988487\n",
            " 14.62906209 13.79163501 17.81434243 14.36159203 14.53988487 16.00472553\n",
            " 14.41507114 15.2002578  17.07918831 14.52205187 14.7717873  15.30744149\n",
            " 15.87950048 15.48613684 14.87886413 14.52205187 14.84316876 14.66473863\n",
            " 16.8641516  16.09418997 15.21811997 17.6529138  15.96894392 14.27247708\n",
            " 15.05738652 15.57551    15.14667561 15.98683442 15.96894392 14.89671296\n",
            " 14.87886413]\n"
          ],
          "name": "stdout"
        }
      ]
    },
    {
      "cell_type": "code",
      "metadata": {
        "id": "N-3QAWSMKA5B",
        "colab_type": "code",
        "colab": {
          "base_uri": "https://localhost:8080/",
          "height": 102
        },
        "outputId": "e021e236-1714-4365-f31b-40579cbae62d"
      },
      "source": [
        "print(y_test)\n",
        "print()"
      ],
      "execution_count": 80,
      "outputs": [
        {
          "output_type": "stream",
          "text": [
            "[18.15 13.9  17.5  15.4  13.3  14.85 15.7  14.5  18.   15.6  15.5  15.1\n",
            " 14.6  14.   18.3  15.6  15.   13.95 16.   14.2  15.85 15.05 14.95 14.85\n",
            " 17.8  15.75 13.95 18.1  16.55 14.15 11.55 14.85 14.9  15.8  15.9  14.8\n",
            " 13.2 ]\n",
            "\n"
          ],
          "name": "stdout"
        }
      ]
    },
    {
      "cell_type": "code",
      "metadata": {
        "id": "nx2dgK0KKHek",
        "colab_type": "code",
        "colab": {
          "base_uri": "https://localhost:8080/",
          "height": 102
        },
        "outputId": "ba095432-28f9-49c8-b98e-f85f99cfb2ec"
      },
      "source": [
        "svm_prediction = svr_rbf.predict(prediction_days_array)\n",
        "print(svm_prediction)"
      ],
      "execution_count": 81,
      "outputs": [
        {
          "output_type": "stream",
          "text": [
            "[14.75394388 14.7717873  14.86101606 14.91456256 14.96811591 14.7717873\n",
            " 14.80747647 14.7717873  14.73610125 14.75394388 14.7717873  14.7182594\n",
            " 14.66473863 14.70041835 14.66473863 14.66473863 14.52205187 14.61122503\n",
            " 14.61122503 14.59338877 14.82532223 14.80747647 14.82532223 14.84316876\n",
            " 14.89671296 14.91456256 14.82532223 14.82532223 14.84316876 14.89671296]\n"
          ],
          "name": "stdout"
        }
      ]
    },
    {
      "cell_type": "code",
      "metadata": {
        "id": "MsKmh852KKph",
        "colab_type": "code",
        "colab": {
          "base_uri": "https://localhost:8080/",
          "height": 204
        },
        "outputId": "92354bc7-9bd7-4d05-eced-346736716540"
      },
      "source": [
        "df2.head(prediction_days).head()"
      ],
      "execution_count": 82,
      "outputs": [
        {
          "output_type": "execute_result",
          "data": {
            "text/html": [
              "<div>\n",
              "<style scoped>\n",
              "    .dataframe tbody tr th:only-of-type {\n",
              "        vertical-align: middle;\n",
              "    }\n",
              "\n",
              "    .dataframe tbody tr th {\n",
              "        vertical-align: top;\n",
              "    }\n",
              "\n",
              "    .dataframe thead th {\n",
              "        text-align: right;\n",
              "    }\n",
              "</style>\n",
              "<table border=\"1\" class=\"dataframe\">\n",
              "  <thead>\n",
              "    <tr style=\"text-align: right;\">\n",
              "      <th></th>\n",
              "      <th>CLOSE</th>\n",
              "      <th>close Prediction</th>\n",
              "    </tr>\n",
              "  </thead>\n",
              "  <tbody>\n",
              "    <tr>\n",
              "      <th>134744</th>\n",
              "      <td>22.45</td>\n",
              "      <td>18.30</td>\n",
              "    </tr>\n",
              "    <tr>\n",
              "      <th>134745</th>\n",
              "      <td>22.35</td>\n",
              "      <td>18.25</td>\n",
              "    </tr>\n",
              "    <tr>\n",
              "      <th>134746</th>\n",
              "      <td>22.50</td>\n",
              "      <td>18.20</td>\n",
              "    </tr>\n",
              "    <tr>\n",
              "      <th>134747</th>\n",
              "      <td>23.05</td>\n",
              "      <td>18.15</td>\n",
              "    </tr>\n",
              "    <tr>\n",
              "      <th>134748</th>\n",
              "      <td>24.15</td>\n",
              "      <td>17.65</td>\n",
              "    </tr>\n",
              "  </tbody>\n",
              "</table>\n",
              "</div>"
            ],
            "text/plain": [
              "        CLOSE  close Prediction\n",
              "134744  22.45             18.30\n",
              "134745  22.35             18.25\n",
              "134746  22.50             18.20\n",
              "134747  23.05             18.15\n",
              "134748  24.15             17.65"
            ]
          },
          "metadata": {
            "tags": []
          },
          "execution_count": 82
        }
      ]
    },
    {
      "cell_type": "code",
      "metadata": {
        "id": "6f90_kQMKPB7",
        "colab_type": "code",
        "colab": {}
      },
      "source": [
        ""
      ],
      "execution_count": 0,
      "outputs": []
    }
  ]
}